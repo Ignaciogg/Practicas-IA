{
 "cells": [
  {
   "cell_type": "markdown",
   "id": "09d98e6a-0b97-4d4d-93b7-4eb4a0208365",
   "metadata": {},
   "source": [
    "# Ejercicios IA Sesión 3 - Ignacio Gil Garzón"
   ]
  },
  {
   "cell_type": "code",
   "execution_count": 1,
   "id": "7348ce3d-10bb-4e77-88a4-e800a9895c51",
   "metadata": {},
   "outputs": [],
   "source": [
    "import csv"
   ]
  },
  {
   "cell_type": "code",
   "execution_count": 4,
   "id": "406f6b52-ba75-4e6f-8d20-0942ba3254fa",
   "metadata": {},
   "outputs": [
    {
     "ename": "TypeError",
     "evalue": "list indices must be integers or slices, not str",
     "output_type": "error",
     "traceback": [
      "\u001b[1;31m---------------------------------------------------------------------------\u001b[0m",
      "\u001b[1;31mTypeError\u001b[0m                                 Traceback (most recent call last)",
      "\u001b[1;32m<ipython-input-4-f05953a18db8>\u001b[0m in \u001b[0;36m<module>\u001b[1;34m\u001b[0m\n\u001b[0;32m      5\u001b[0m     \u001b[1;32mfor\u001b[0m \u001b[0mlinea\u001b[0m \u001b[1;32min\u001b[0m \u001b[0mlector\u001b[0m\u001b[1;33m:\u001b[0m\u001b[1;33m\u001b[0m\u001b[1;33m\u001b[0m\u001b[0m\n\u001b[0;32m      6\u001b[0m         \u001b[0mcentro\u001b[0m \u001b[1;33m=\u001b[0m \u001b[0mlinea\u001b[0m\u001b[1;33m[\u001b[0m\u001b[1;36m0\u001b[0m\u001b[1;33m]\u001b[0m\u001b[1;33m\u001b[0m\u001b[1;33m\u001b[0m\u001b[0m\n\u001b[1;32m----> 7\u001b[1;33m         \u001b[0msubvencion\u001b[0m \u001b[1;33m=\u001b[0m \u001b[0mfloat\u001b[0m\u001b[1;33m(\u001b[0m\u001b[0mlinea\u001b[0m\u001b[1;33m[\u001b[0m\u001b[1;34m\"Importe\"\u001b[0m\u001b[1;33m]\u001b[0m\u001b[1;33m)\u001b[0m\u001b[1;33m\u001b[0m\u001b[1;33m\u001b[0m\u001b[0m\n\u001b[0m\u001b[0;32m      8\u001b[0m         \u001b[1;32mif\u001b[0m \u001b[0mcentro\u001b[0m \u001b[1;32min\u001b[0m \u001b[0masociaciones\u001b[0m\u001b[1;33m:\u001b[0m\u001b[1;33m\u001b[0m\u001b[1;33m\u001b[0m\u001b[0m\n\u001b[0;32m      9\u001b[0m             \u001b[0masociaciones\u001b[0m\u001b[1;33m[\u001b[0m\u001b[0mcentro\u001b[0m\u001b[1;33m]\u001b[0m \u001b[1;33m=\u001b[0m \u001b[0masociaciones\u001b[0m\u001b[1;33m[\u001b[0m\u001b[0mcentro\u001b[0m\u001b[1;33m]\u001b[0m \u001b[1;33m+\u001b[0m \u001b[0msubvencion\u001b[0m\u001b[1;33m\u001b[0m\u001b[1;33m\u001b[0m\u001b[0m\n",
      "\u001b[1;31mTypeError\u001b[0m: list indices must be integers or slices, not str"
     ]
    }
   ],
   "source": [
    "with open(\"C:/Users/nacho/Downloads/subvenciones.csv\", encoding='latin1') as fichero_csv:\n",
    "    lector = csv.reader(fichero_csv)\n",
    "    next(lector, None)\n",
    "    asociaciones = {}\n",
    "    for linea in lector:\n",
    "        centro = linea[0]\n",
    "        subvencion = float(linea[\"Importe\"])\n",
    "        if centro in asociaciones:\n",
    "            asociaciones[centro] = asociaciones[centro] + subvencion\n",
    "        else:\n",
    "            asociaciones[centro] = subvencion\n",
    "    print(asociaciones)"
   ]
  },
  {
   "cell_type": "code",
   "execution_count": null,
   "id": "783348d6-fadf-498d-8606-f4b79c49a173",
   "metadata": {},
   "outputs": [],
   "source": []
  }
 ],
 "metadata": {
  "kernelspec": {
   "display_name": "Python 3",
   "language": "python",
   "name": "python3"
  },
  "language_info": {
   "codemirror_mode": {
    "name": "ipython",
    "version": 3
   },
   "file_extension": ".py",
   "mimetype": "text/x-python",
   "name": "python",
   "nbconvert_exporter": "python",
   "pygments_lexer": "ipython3",
   "version": "3.8.8"
  }
 },
 "nbformat": 4,
 "nbformat_minor": 5
}

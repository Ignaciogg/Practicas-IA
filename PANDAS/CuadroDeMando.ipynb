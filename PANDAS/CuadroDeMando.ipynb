{
 "cells": [
  {
   "cell_type": "markdown",
   "id": "afb12cd4-b3eb-4dd2-8c74-56b494966831",
   "metadata": {},
   "source": [
    "# Cuadro de Mando"
   ]
  },
  {
   "cell_type": "markdown",
   "id": "0e5bad6d-8807-4531-9e28-e6b402befb5a",
   "metadata": {},
   "source": [
    "## 1. Importamos librerías, seleccionamos las 100.000 primeras filas de la base de datos y construimos un cuadro de mando a forma de resumen con los vuelos que han salido cada día de la semana"
   ]
  },
  {
   "cell_type": "code",
   "execution_count": 13,
   "id": "5c6df1ab-a2c6-4194-b6fd-ccd08eda972a",
   "metadata": {},
   "outputs": [
    {
     "data": {
      "text/plain": [
       "(array([1, 2, 3, 4, 5, 6, 7], dtype=int64),\n",
       " array([14519, 14710, 14694, 17079, 14517, 11285, 13196], dtype=int64))"
      ]
     },
     "execution_count": 13,
     "metadata": {},
     "output_type": "execute_result"
    }
   ],
   "source": [
    "import numpy as np\n",
    "import seaborn as sns\n",
    "import matplotlib.pyplot as plt\n",
    "import pandas as pd\n",
    "\n",
    "df = pd.read_csv(\"base_datos_2008.csv\", nrows=100000)\n",
    "data = np.unique(df.DayOfWeek, return_counts = True)\n",
    "labs = [\"Lun\", \"Mar\", \"Mie\", \"Jue\", \"Vie\", \"Sab\", \"Dom\"]\n",
    "\n",
    "data"
   ]
  },
  {
   "cell_type": "markdown",
   "id": "d8fb77a7-f635-4d3d-a1fe-9af79ff98543",
   "metadata": {},
   "source": [
    "## 2. Creamos un diagrama de barras x= Día de la semana, y= Número de vuelos"
   ]
  },
  {
   "cell_type": "code",
   "execution_count": 14,
   "id": "c2f0d030-01c6-4993-8a86-a1558e0497bd",
   "metadata": {},
   "outputs": [
    {
     "data": {
      "text/plain": [
       "[Text(0.5, 0, 'Día de la Semana'), Text(0, 0.5, 'Número de Vuelos')]"
      ]
     },
     "execution_count": 14,
     "metadata": {},
     "output_type": "execute_result"
    },
    {
     "data": {
      "image/png": "[encoded data removed]",
      "text/plain": [
       "<Figure size 432x288 with 1 Axes>"
      ]
     },
     "metadata": {
      "needs_background": "light"
     },
     "output_type": "display_data"
    }
   ],
   "source": [
    "plt = sns.barplot(x = labs, y = data[1])\n",
    "plt.set(xlabel = \"Día de la Semana\", ylabel = \"Número de Vuelos\")"
   ]
  },
  {
   "cell_type": "markdown",
   "id": "05e68117-9597-4e9c-97a0-2f2ea634f5a7",
   "metadata": {},
   "source": [
    "## 3. Crearemos un diagrama tipo pie, \"quesitos\""
   ]
  },
  {
   "cell_type": "code",
   "execution_count": 15,
   "id": "069f791b-e0d3-4e94-9838-ae099e3aaa69",
   "metadata": {},
   "outputs": [
    {
     "ename": "AttributeError",
     "evalue": "'AxesSubplot' object has no attribute 'show'",
     "output_type": "error",
     "traceback": [
      "\u001b[1;31m---------------------------------------------------------------------------\u001b[0m",
      "\u001b[1;31mAttributeError\u001b[0m                            Traceback (most recent call last)",
      "\u001b[1;32m<ipython-input-15-6b5900ab5924>\u001b[0m in \u001b[0;36m<module>\u001b[1;34m\u001b[0m\n\u001b[0;32m      5\u001b[0m        startangle = 90)\n\u001b[0;32m      6\u001b[0m \u001b[1;33m\u001b[0m\u001b[0m\n\u001b[1;32m----> 7\u001b[1;33m \u001b[0mplt\u001b[0m\u001b[1;33m.\u001b[0m\u001b[0mshow\u001b[0m\u001b[1;33m(\u001b[0m\u001b[1;33m)\u001b[0m\u001b[1;33m\u001b[0m\u001b[1;33m\u001b[0m\u001b[0m\n\u001b[0m",
      "\u001b[1;31mAttributeError\u001b[0m: 'AxesSubplot' object has no attribute 'show'"
     ]
    }
   ],
   "source": [
    "plt.pie(x=data[1], \n",
    "       labels = data[0],\n",
    "       radius = 1.5,\n",
    "       colors = [\"Red\", \"Green\", \"Orange\", \"Blue\", \"Gray\", \"Pink\", \"Black\"],\n",
    "       startangle = 90)\n",
    "\n",
    "plt.show()"
   ]
  },
  {
   "cell_type": "code",
   "execution_count": 16,
   "id": "21ef670c-4d9c-4a5f-ba3e-675629ab33c1",
   "metadata": {},
   "outputs": [
    {
     "ename": "AttributeError",
     "evalue": "'AxesSubplot' object has no attribute 'show'",
     "output_type": "error",
     "traceback": [
      "\u001b[1;31m---------------------------------------------------------------------------\u001b[0m",
      "\u001b[1;31mAttributeError\u001b[0m                            Traceback (most recent call last)",
      "\u001b[1;32m<ipython-input-16-9f043e48553c>\u001b[0m in \u001b[0;36m<module>\u001b[1;34m\u001b[0m\n\u001b[0;32m      8\u001b[0m \u001b[1;31m#plt.legend(loc=\"center right\", labels = labs)\u001b[0m\u001b[1;33m\u001b[0m\u001b[1;33m\u001b[0m\u001b[1;33m\u001b[0m\u001b[0m\n\u001b[0;32m      9\u001b[0m \u001b[1;31m#plt.legend(loc=\"best\", labels = labs)\u001b[0m\u001b[1;33m\u001b[0m\u001b[1;33m\u001b[0m\u001b[1;33m\u001b[0m\u001b[0m\n\u001b[1;32m---> 10\u001b[1;33m \u001b[0mplt\u001b[0m\u001b[1;33m.\u001b[0m\u001b[0mshow\u001b[0m\u001b[1;33m(\u001b[0m\u001b[1;33m)\u001b[0m\u001b[1;33m\u001b[0m\u001b[1;33m\u001b[0m\u001b[0m\n\u001b[0m",
      "\u001b[1;31mAttributeError\u001b[0m: 'AxesSubplot' object has no attribute 'show'"
     ]
    }
   ],
   "source": [
    "plt.pie(x=data[1], \n",
    "      labels = labs,\n",
    "       radius = 1.5,\n",
    "       colors = sns.color_palette(\"hls\",7),\n",
    "        explode = (0,0,0,0,0,0,0.1),\n",
    "        startangle = 90,\n",
    "       autopct = \"%1.1f%%\")\n",
    "#plt.legend(loc=\"center right\", labels = labs)\n",
    "#plt.legend(loc=\"best\", labels = labs)\n",
    "plt.show()"
   ]
  },
  {
   "cell_type": "code",
   "execution_count": null,
   "id": "d04e89ff-748a-4c36-885d-76fcf29aa63f",
   "metadata": {},
   "outputs": [],
   "source": []
  }
 ],
 "metadata": {
  "kernelspec": {
   "display_name": "Python 3",
   "language": "python",
   "name": "python3"
  },
  "language_info": {
   "codemirror_mode": {
    "name": "ipython",
    "version": 3
   },
   "file_extension": ".py",
   "mimetype": "text/x-python",
   "name": "python",
   "nbconvert_exporter": "python",
   "pygments_lexer": "ipython3",
   "version": "3.8.8"
  }
 },
 "nbformat": 4,
 "nbformat_minor": 5
}

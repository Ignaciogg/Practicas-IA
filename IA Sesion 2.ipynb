{
 "cells": [
  {
   "cell_type": "markdown",
   "id": "ef31c9eb-a626-47ef-bfc2-b425d97c3e95",
   "metadata": {},
   "source": [
    "# Ejercicios IA Sesión 2 - Ignacio Gil Garzón"
   ]
  },
  {
   "cell_type": "markdown",
   "id": "79a3a647-1372-4dbb-ab0c-da4fa253b871",
   "metadata": {},
   "source": [
    "## 1. Revisar qué son las funciones Lambda y poner un ejemplo."
   ]
  },
  {
   "cell_type": "markdown",
   "id": "e443e552-e34d-40bf-bb3f-6da97084d035",
   "metadata": {},
   "source": [
    "Las funciones Lambda son aquellas que carecen de nombre. Una línea que ejecuta una sola expresión."
   ]
  },
  {
   "cell_type": "markdown",
   "id": "049b6873-150c-4e18-9028-3d3d5ddc37c8",
   "metadata": {},
   "source": [
    "Función normal:"
   ]
  },
  {
   "cell_type": "code",
   "execution_count": 13,
   "id": "8045225b-8cb0-43f6-958f-be4a30d6a823",
   "metadata": {},
   "outputs": [],
   "source": [
    "def suma(x,y):\n",
    "    return(x + y)"
   ]
  },
  {
   "cell_type": "markdown",
   "id": "3725c533-43d0-4874-b013-4ece781134e2",
   "metadata": {},
   "source": [
    "Función lambda:"
   ]
  },
  {
   "cell_type": "code",
   "execution_count": 14,
   "id": "2e780bfc-3597-4d1c-b705-95213e0a307c",
   "metadata": {},
   "outputs": [
    {
     "data": {
      "text/plain": [
       "<function __main__.<lambda>(x, y)>"
      ]
     },
     "execution_count": 14,
     "metadata": {},
     "output_type": "execute_result"
    }
   ],
   "source": [
    "lambda x,y : x + y"
   ]
  },
  {
   "cell_type": "markdown",
   "id": "ce4194a0-a434-475b-b03d-4ff0e1196e96",
   "metadata": {},
   "source": [
    "## 2. Definir una función max_de_tres(), que tome tres números como argumentos y devuelva el mayor de ellos."
   ]
  },
  {
   "cell_type": "code",
   "execution_count": 15,
   "id": "d11da4fb-6d78-4ba4-b76b-60a20d5f3487",
   "metadata": {},
   "outputs": [],
   "source": [
    "def max_de_tres(x,y,z):\n",
    "    if x>y and x>z:\n",
    "        return x\n",
    "    elif y>x and y>z:\n",
    "        return y\n",
    "    else:\n",
    "        return z"
   ]
  },
  {
   "cell_type": "code",
   "execution_count": 16,
   "id": "8d3d745f-935a-4424-b5d8-603b1f7115a7",
   "metadata": {},
   "outputs": [
    {
     "data": {
      "text/plain": [
       "3"
      ]
     },
     "execution_count": 16,
     "metadata": {},
     "output_type": "execute_result"
    }
   ],
   "source": [
    "max_de_tres(1,2,3)"
   ]
  },
  {
   "cell_type": "code",
   "execution_count": 17,
   "id": "56a5a3e4-46d0-4d88-ab8c-4908845baa65",
   "metadata": {},
   "outputs": [
    {
     "data": {
      "text/plain": [
       "9"
      ]
     },
     "execution_count": 17,
     "metadata": {},
     "output_type": "execute_result"
    }
   ],
   "source": [
    "max_de_tres(9,4,1)"
   ]
  },
  {
   "cell_type": "code",
   "execution_count": 18,
   "id": "0b749da4-85aa-4374-981c-006d5c85063d",
   "metadata": {},
   "outputs": [
    {
     "data": {
      "text/plain": [
       "15"
      ]
     },
     "execution_count": 18,
     "metadata": {},
     "output_type": "execute_result"
    }
   ],
   "source": [
    "max_de_tres(5,15,7)"
   ]
  },
  {
   "cell_type": "markdown",
   "id": "a3712937-d8d8-4659-a4a4-3608176d02d2",
   "metadata": {},
   "source": [
    "## 3. Escribir una función que tome un carácter y devuelva True si es una vocal, de lo contrario devuelve False."
   ]
  },
  {
   "cell_type": "code",
   "execution_count": 19,
   "id": "70289f3a-2bbd-4a55-8b15-63f9d1b7fa4e",
   "metadata": {},
   "outputs": [
    {
     "name": "stdin",
     "output_type": "stream",
     "text": [
      "Introduce una letra:  e\n"
     ]
    },
    {
     "data": {
      "text/plain": [
       "True"
      ]
     },
     "execution_count": 19,
     "metadata": {},
     "output_type": "execute_result"
    }
   ],
   "source": [
    "def vocal(z):\n",
    "    if z == \"a\" or z == \"e\" or z == \"i\" or z == \"o\" or z == \"u\":\n",
    "        return True\n",
    "    else:\n",
    "        return False\n",
    "    \n",
    "z = input(\"Introduce una letra: \")\n",
    "    \n",
    "vocal(z)"
   ]
  },
  {
   "cell_type": "markdown",
   "id": "f127f0aa-6dea-4b0e-bf53-6aad9ad59f4c",
   "metadata": {},
   "source": [
    "## 4. Escribir una funcionsum() y una función multip() que sumen y multipliquen respectivamente todos los números de una lista. Por ejemplo: sum([1,2,3,4]) debería devolver 10 y multip([1,2,3,4]) debería devolver 24."
   ]
  },
  {
   "cell_type": "code",
   "execution_count": 20,
   "id": "95e374bf-7099-4018-85e7-772baf3f5104",
   "metadata": {},
   "outputs": [],
   "source": [
    "def funcionsum(lista):\n",
    "    return sum(lista)"
   ]
  },
  {
   "cell_type": "code",
   "execution_count": 21,
   "id": "d015debc-06d0-4459-93e1-66d0c4da907a",
   "metadata": {},
   "outputs": [],
   "source": [
    "miLista = [1,2,3,4]"
   ]
  },
  {
   "cell_type": "code",
   "execution_count": 22,
   "id": "075d22e9-c1bf-42e0-952b-99c12dc82b7d",
   "metadata": {},
   "outputs": [
    {
     "data": {
      "text/plain": [
       "10"
      ]
     },
     "execution_count": 22,
     "metadata": {},
     "output_type": "execute_result"
    }
   ],
   "source": [
    "funcionsum(miLista)"
   ]
  },
  {
   "cell_type": "code",
   "execution_count": 23,
   "id": "a3ed1ab1-ceab-4794-b2d6-6c5f44f525dd",
   "metadata": {},
   "outputs": [],
   "source": [
    "from functools import reduce"
   ]
  },
  {
   "cell_type": "code",
   "execution_count": 24,
   "id": "4c1245f4-48fa-4d0e-9fe5-c393a59aa10a",
   "metadata": {},
   "outputs": [],
   "source": [
    "def multip(lista):\n",
    "    return (reduce(lambda x, y: x*y, lista))"
   ]
  },
  {
   "cell_type": "code",
   "execution_count": 25,
   "id": "57916a65-f309-462c-87c6-b54cc9b3eafc",
   "metadata": {},
   "outputs": [
    {
     "data": {
      "text/plain": [
       "24"
      ]
     },
     "execution_count": 25,
     "metadata": {},
     "output_type": "execute_result"
    }
   ],
   "source": [
    "multip(miLista)"
   ]
  },
  {
   "cell_type": "markdown",
   "id": "2f7e65ee-d8e8-4225-85fd-a4e79ff95648",
   "metadata": {},
   "source": [
    "## 5. Escribir un pequeño programa donde:\n",
    "### -Se ingresa el año en curso.\n",
    "### -Se ingresa el nombre y el año de nacimiento de tres personas.\n",
    "### -Se calcula cuántos años cumplirán durante el año en curso.\n",
    "### -Se imprime en pantalla."
   ]
  },
  {
   "cell_type": "code",
   "execution_count": 27,
   "id": "4c4f9cca-f4f1-4625-ae87-44ecd0bd8ac1",
   "metadata": {},
   "outputs": [
    {
     "name": "stdin",
     "output_type": "stream",
     "text": [
      "Introduce el año:  2020\n",
      "Ahora, el nombre de la primera persona:  Pepe\n",
      "Y su año de nacimiento:  2000\n",
      "Ahora, el nombre de la segunda persona:  Pepa\n",
      "Y su año de nacimiento:  2010\n",
      "Ahora, el nombre de la tercera persona:  Pep\n",
      "Y su año de nacimiento:  2001\n"
     ]
    },
    {
     "ename": "TypeError",
     "evalue": "unsupported operand type(s) for -: 'str' and 'str'",
     "output_type": "error",
     "traceback": [
      "\u001b[1;31m---------------------------------------------------------------------------\u001b[0m",
      "\u001b[1;31mTypeError\u001b[0m                                 Traceback (most recent call last)",
      "\u001b[1;32m<ipython-input-27-ba3acf75dfa3>\u001b[0m in \u001b[0;36m<module>\u001b[1;34m\u001b[0m\n\u001b[0;32m     12\u001b[0m \u001b[0mano3\u001b[0m \u001b[1;33m=\u001b[0m \u001b[0minput\u001b[0m\u001b[1;33m(\u001b[0m\u001b[1;34m\"Y su año de nacimiento: \"\u001b[0m\u001b[1;33m)\u001b[0m\u001b[1;33m\u001b[0m\u001b[1;33m\u001b[0m\u001b[0m\n\u001b[0;32m     13\u001b[0m \u001b[1;33m\u001b[0m\u001b[0m\n\u001b[1;32m---> 14\u001b[1;33m \u001b[0mcalcular\u001b[0m\u001b[1;33m(\u001b[0m\u001b[0mano\u001b[0m\u001b[1;33m,\u001b[0m \u001b[0mnom1\u001b[0m\u001b[1;33m,\u001b[0m \u001b[0mano1\u001b[0m\u001b[1;33m,\u001b[0m \u001b[0mnom2\u001b[0m\u001b[1;33m,\u001b[0m \u001b[0mano2\u001b[0m\u001b[1;33m,\u001b[0m \u001b[0mnom3\u001b[0m\u001b[1;33m,\u001b[0m \u001b[0mano3\u001b[0m\u001b[1;33m)\u001b[0m\u001b[1;33m\u001b[0m\u001b[1;33m\u001b[0m\u001b[0m\n\u001b[0m",
      "\u001b[1;32m<ipython-input-27-ba3acf75dfa3>\u001b[0m in \u001b[0;36mcalcular\u001b[1;34m(ano, nom1, ano1, nom2, ano2, nom3, ano3)\u001b[0m\n\u001b[0;32m      1\u001b[0m \u001b[1;32mdef\u001b[0m \u001b[0mcalcular\u001b[0m\u001b[1;33m(\u001b[0m\u001b[0mano\u001b[0m\u001b[1;33m,\u001b[0m \u001b[0mnom1\u001b[0m\u001b[1;33m,\u001b[0m \u001b[0mano1\u001b[0m\u001b[1;33m,\u001b[0m \u001b[0mnom2\u001b[0m\u001b[1;33m,\u001b[0m \u001b[0mano2\u001b[0m\u001b[1;33m,\u001b[0m \u001b[0mnom3\u001b[0m\u001b[1;33m,\u001b[0m \u001b[0mano3\u001b[0m\u001b[1;33m)\u001b[0m\u001b[1;33m:\u001b[0m\u001b[1;33m\u001b[0m\u001b[1;33m\u001b[0m\u001b[0m\n\u001b[1;32m----> 2\u001b[1;33m     \u001b[0mprint\u001b[0m\u001b[1;33m(\u001b[0m\u001b[0mnom1\u001b[0m\u001b[1;33m,\u001b[0m \u001b[1;34m\" cumplirá: \"\u001b[0m \u001b[1;33m,\u001b[0m \u001b[0mint\u001b[0m\u001b[1;33m(\u001b[0m\u001b[0mano\u001b[0m\u001b[1;33m-\u001b[0m\u001b[0mano1\u001b[0m\u001b[1;33m)\u001b[0m\u001b[1;33m)\u001b[0m\u001b[1;33m\u001b[0m\u001b[1;33m\u001b[0m\u001b[0m\n\u001b[0m\u001b[0;32m      3\u001b[0m     \u001b[0mprint\u001b[0m\u001b[1;33m(\u001b[0m\u001b[0mnom2\u001b[0m\u001b[1;33m,\u001b[0m \u001b[1;34m\" cumplirá: \"\u001b[0m \u001b[1;33m,\u001b[0m \u001b[0mint\u001b[0m\u001b[1;33m(\u001b[0m\u001b[0mano\u001b[0m\u001b[1;33m-\u001b[0m\u001b[0mano2\u001b[0m\u001b[1;33m)\u001b[0m\u001b[1;33m)\u001b[0m\u001b[1;33m\u001b[0m\u001b[1;33m\u001b[0m\u001b[0m\n\u001b[0;32m      4\u001b[0m     \u001b[0mprint\u001b[0m\u001b[1;33m(\u001b[0m\u001b[0mnom3\u001b[0m\u001b[1;33m,\u001b[0m \u001b[1;34m\" cumplirá: \"\u001b[0m \u001b[1;33m,\u001b[0m \u001b[0mint\u001b[0m\u001b[1;33m(\u001b[0m\u001b[0mano\u001b[0m\u001b[1;33m-\u001b[0m\u001b[0mano3\u001b[0m\u001b[1;33m)\u001b[0m\u001b[1;33m)\u001b[0m\u001b[1;33m\u001b[0m\u001b[1;33m\u001b[0m\u001b[0m\n\u001b[0;32m      5\u001b[0m \u001b[1;33m\u001b[0m\u001b[0m\n",
      "\u001b[1;31mTypeError\u001b[0m: unsupported operand type(s) for -: 'str' and 'str'"
     ]
    }
   ],
   "source": [
    "def calcular(ano, nom1, ano1, nom2, ano2, nom3, ano3):\n",
    "    print(nom1, \" cumplirá: \" , int(ano-ano1))\n",
    "    print(nom2, \" cumplirá: \" , int(ano-ano2))\n",
    "    print(nom3, \" cumplirá: \" , int(ano-ano3))\n",
    "\n",
    "ano = input(\"Introduce el año: \")\n",
    "nom1 = input(\"Ahora, el nombre de la primera persona: \")\n",
    "ano1 = input(\"Y su año de nacimiento: \")\n",
    "nom2 = input(\"Ahora, el nombre de la segunda persona: \")\n",
    "ano2 = input(\"Y su año de nacimiento: \")\n",
    "nom3 = input(\"Ahora, el nombre de la tercera persona: \")\n",
    "ano3 = input(\"Y su año de nacimiento: \")\n",
    "\n",
    "calcular(ano, nom1, ano1, nom2, ano2, nom3, ano3)"
   ]
  },
  {
   "cell_type": "markdown",
   "id": "a63a2ee4-6b42-41ce-8244-ed4d8a65760e",
   "metadata": {},
   "source": [
    "## 6. Definir una tupla con 10 edades de personas. Imprimir la cantidad de personas con edades superiores a 20. Puedes variar el ejercicio para que sea el usuario quien ingrese las edades."
   ]
  },
  {
   "cell_type": "code",
   "execution_count": null,
   "id": "6510f4e2-0bf2-4153-8910-b037185746c1",
   "metadata": {},
   "outputs": [],
   "source": []
  }
 ],
 "metadata": {
  "kernelspec": {
   "display_name": "Python 3",
   "language": "python",
   "name": "python3"
  },
  "language_info": {
   "codemirror_mode": {
    "name": "ipython",
    "version": 3
   },
   "file_extension": ".py",
   "mimetype": "text/x-python",
   "name": "python",
   "nbconvert_exporter": "python",
   "pygments_lexer": "ipython3",
   "version": "3.8.8"
  }
 },
 "nbformat": 4,
 "nbformat_minor": 5
}

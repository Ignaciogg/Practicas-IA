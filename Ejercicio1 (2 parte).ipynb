{
 "cells": [
  {
   "cell_type": "code",
   "execution_count": null,
   "metadata": {},
   "outputs": [],
   "source": [
    "print (\"Hola Mundo\")"
   ]
  },
  {
   "cell_type": "code",
   "execution_count": null,
   "metadata": {},
   "outputs": [],
   "source": [
    "print (\"Enero, Febrero, Marzo,..., Diciembre\")"
   ]
  },
  {
   "cell_type": "code",
   "execution_count": null,
   "metadata": {},
   "outputs": [],
   "source": [
    "variable = 5\n",
    "print (variable)"
   ]
  },
  {
   "cell_type": "code",
   "execution_count": null,
   "metadata": {},
   "outputs": [],
   "source": [
    "variable = 5\n",
    "print (variable)\n",
    "# Esto imprimirá 5"
   ]
  },
  {
   "cell_type": "markdown",
   "metadata": {},
   "source": [
    "En Python no es necesario declarar las variables explícitamente antes de usarlas, y adoptan el tipo cuando se les asigna valor."
   ]
  },
  {
   "cell_type": "code",
   "execution_count": null,
   "metadata": {},
   "outputs": [],
   "source": [
    "primera_variable, segunda_variable, tercera_variable = 1, \"dos\", 3\n",
    "print (primera_variable)\n",
    "print (segunda_variable)\n",
    "print (tercera_variable)"
   ]
  },
  {
   "cell_type": "code",
   "execution_count": null,
   "metadata": {},
   "outputs": [],
   "source": [
    "numero = 5\n",
    "resultado = numero + 7\n",
    "print (resultado)"
   ]
  },
  {
   "cell_type": "markdown",
   "metadata": {},
   "source": [
    "Python es un lenguaje de tipado dinámico, al asignar un valor a una variable decidimos implícitamente el tipo de dato."
   ]
  },
  {
   "cell_type": "code",
   "execution_count": null,
   "metadata": {},
   "outputs": [],
   "source": [
    "primer_numero = 5\n",
    "segundo_numero = 8\n",
    "suma = primer_numero + segundo_numero\n",
    "print (suma)\n",
    "\n",
    "primera_cadena = \"Hola\"\n",
    "segunda_cadena = \" Mundo\"\n",
    "union = primera_cadena + segunda_cadena\n",
    "\n",
    "print (union)"
   ]
  },
  {
   "cell_type": "markdown",
   "metadata": {},
   "source": [
    "Python es un lenguaje “fuertemente tipado” de forma que no permite mezclar tipos de datos libremente."
   ]
  },
  {
   "cell_type": "code",
   "execution_count": null,
   "metadata": {},
   "outputs": [],
   "source": [
    "numero = 5\n",
    "cadena = \"Hola\"\n",
    "\n",
    "union = numero + cadena\n",
    "print (union)"
   ]
  },
  {
   "cell_type": "markdown",
   "metadata": {},
   "source": [
    "Probemos con el editor Jupyter a ver qué salida nos da aplicar la función type() a distintos tipos de datos."
   ]
  },
  {
   "cell_type": "code",
   "execution_count": null,
   "metadata": {},
   "outputs": [],
   "source": [
    "texto = \"10\"\n",
    "decimal = 21.15\n",
    "un_entero = int (texto)\n",
    "print (type(texto))\n",
    "print (type(decimal))\n",
    "print (type(un_entero))\n",
    "print (type(int(decimal)))"
   ]
  },
  {
   "cell_type": "markdown",
   "metadata": {},
   "source": [
    "Existen también funciones de conversión de datos… "
   ]
  },
  {
   "cell_type": "code",
   "execution_count": null,
   "metadata": {},
   "outputs": [],
   "source": [
    "int(2.7)"
   ]
  },
  {
   "cell_type": "code",
   "execution_count": null,
   "metadata": {},
   "outputs": [],
   "source": [
    "float(2)"
   ]
  },
  {
   "cell_type": "code",
   "execution_count": null,
   "metadata": {},
   "outputs": [],
   "source": [
    "round(2.7)"
   ]
  },
  {
   "cell_type": "code",
   "execution_count": null,
   "metadata": {},
   "outputs": [],
   "source": [
    "str(2)"
   ]
  },
  {
   "cell_type": "markdown",
   "metadata": {},
   "source": [
    "Tratar números en distintas bases..."
   ]
  },
  {
   "cell_type": "code",
   "execution_count": null,
   "metadata": {},
   "outputs": [],
   "source": [
    "entero = 500\n",
    "hexadecimal = hex(entero)\n",
    "print(hexadecimal)\n",
    "\n",
    "octal = oct(entero)\n",
    "print(octal)"
   ]
  },
  {
   "cell_type": "markdown",
   "metadata": {},
   "source": [
    "Operadores numéricos..."
   ]
  },
  {
   "cell_type": "code",
   "execution_count": null,
   "metadata": {},
   "outputs": [],
   "source": [
    "primer_numero = 10\n",
    "segundo_numero = 3\n",
    "suma = primer_numero + segundo_numero\n",
    "resta = primer_numero - segundo_numero\n",
    "multiplicacion = primer_numero * segundo_numero\n",
    "division = primer_numero / segundo_numero\n",
    "potencia = primer_numero ** segundo_numero\n",
    "modulo = primer_numero % segundo_numero\n",
    "division_entera = primer_numero // segundo_numero\n",
    "\n",
    "print (primer_numero)\n",
    "print (segundo_numero)\n",
    "print(suma)\n",
    "print(resta)\n",
    "print(multiplicacion)\n",
    "print(division)\n",
    "print(potencia)\n",
    "print(modulo)\n",
    "print(division_entera)"
   ]
  },
  {
   "cell_type": "markdown",
   "metadata": {},
   "source": [
    "Operadores de comparación..."
   ]
  },
  {
   "cell_type": "code",
   "execution_count": null,
   "metadata": {},
   "outputs": [],
   "source": [
    "numero = 7\n",
    "texto = \"Hola Mundo\"\n",
    "print (3 == 2)\n",
    "print (3 > 2)\n",
    "print (texto == \"Hola Mundo\")\n",
    "print (texto == \"Hola mundo\")\n",
    "print (7 >= 6)"
   ]
  },
  {
   "cell_type": "code",
   "execution_count": null,
   "metadata": {},
   "outputs": [],
   "source": [
    "saludo = \"Hola\"\n",
    "saludo += \" Mundo\"\n",
    "print (saludo)\n",
    "\n",
    "gallina =\"Co\"\n",
    "gallina = 4 * gallina\n",
    "print (gallina)"
   ]
  },
  {
   "cell_type": "markdown",
   "metadata": {},
   "source": [
    "Operadores de identidad..."
   ]
  },
  {
   "cell_type": "code",
   "execution_count": null,
   "metadata": {},
   "outputs": [],
   "source": [
    "variable1 = 6\n",
    "variable2 = 6.0\n",
    "\n",
    "print (variable1 is variable2)"
   ]
  },
  {
   "cell_type": "markdown",
   "metadata": {},
   "source": [
    "Operadores de pertenencia..."
   ]
  },
  {
   "cell_type": "code",
   "execution_count": null,
   "metadata": {},
   "outputs": [],
   "source": [
    "Lista = [\"silla\", \"mesa\", \"armario\", \"reloj\"]\n",
    "print (\"silla\" in Lista)"
   ]
  },
  {
   "cell_type": "code",
   "execution_count": null,
   "metadata": {},
   "outputs": [],
   "source": [
    "print (\"ropero\" in Lista)"
   ]
  },
  {
   "cell_type": "code",
   "execution_count": null,
   "metadata": {},
   "outputs": [],
   "source": [
    "print (Lista)"
   ]
  },
  {
   "cell_type": "markdown",
   "metadata": {},
   "source": [
    "Una lista (array) es una variable que, en lugar de contener un valor, contiene una secuencia ordenada de estos. Para acceder a un elemento de la lista (r/w), es necesario indicar la posición (se empieza a contar desde 0). Una lista puede contener datos de todo tipo, y dentro de una lista mezclar tipos de dato."
   ]
  },
  {
   "cell_type": "code",
   "execution_count": null,
   "metadata": {},
   "outputs": [],
   "source": [
    "lista = []\n",
    "lista = list((\"uno\", \"dos\", \"tres\", \"cuatro\"))\n",
    "print (lista)"
   ]
  },
  {
   "cell_type": "code",
   "execution_count": null,
   "metadata": {},
   "outputs": [],
   "source": [
    "print (lista[2])"
   ]
  },
  {
   "cell_type": "code",
   "execution_count": null,
   "metadata": {},
   "outputs": [],
   "source": [
    "lista[2] = \"Nuevo Número\""
   ]
  },
  {
   "cell_type": "code",
   "execution_count": null,
   "metadata": {},
   "outputs": [],
   "source": [
    "print (lista[2])\n",
    "print (lista)"
   ]
  },
  {
   "cell_type": "code",
   "execution_count": null,
   "metadata": {},
   "outputs": [],
   "source": [
    "lista = [[1, 2, 3], [\"a\", \"b\", \"c\"]]\n",
    "print (lista)"
   ]
  },
  {
   "cell_type": "code",
   "execution_count": null,
   "metadata": {},
   "outputs": [],
   "source": [
    "print (lista [0] [2])"
   ]
  },
  {
   "cell_type": "code",
   "execution_count": null,
   "metadata": {},
   "outputs": [],
   "source": [
    "print (lista [1] [1])"
   ]
  },
  {
   "cell_type": "code",
   "execution_count": null,
   "metadata": {},
   "outputs": [],
   "source": [
    "lista = []\n",
    "lista = list((\"uno\", \"dos\", \"tres\", \"cuatro\"))\n",
    "print (lista)"
   ]
  },
  {
   "cell_type": "code",
   "execution_count": null,
   "metadata": {},
   "outputs": [],
   "source": [
    "lista [1:4]"
   ]
  },
  {
   "cell_type": "code",
   "execution_count": null,
   "metadata": {},
   "outputs": [],
   "source": [
    "lista = [1,2,3,4,5,6,7,8,9,10,11,12,13,14,15,16,17]"
   ]
  },
  {
   "cell_type": "code",
   "execution_count": null,
   "metadata": {},
   "outputs": [],
   "source": [
    "print(lista[2:15])"
   ]
  },
  {
   "cell_type": "code",
   "execution_count": null,
   "metadata": {},
   "outputs": [],
   "source": [
    "print (lista[2:15:2])"
   ]
  },
  {
   "cell_type": "markdown",
   "metadata": {},
   "source": [
    "Una tupla es parecida a una lista con la salvedad que no puede modificarse."
   ]
  },
  {
   "cell_type": "code",
   "execution_count": null,
   "metadata": {},
   "outputs": [],
   "source": [
    "tupla = \"primero\", \"segundo\", \"tercero\", \"cuarto\", \"quinto\""
   ]
  },
  {
   "cell_type": "code",
   "execution_count": null,
   "metadata": {},
   "outputs": [],
   "source": [
    "print (tupla)"
   ]
  },
  {
   "cell_type": "code",
   "execution_count": null,
   "metadata": {},
   "outputs": [],
   "source": [
    "print (tupla[2])"
   ]
  },
  {
   "cell_type": "code",
   "execution_count": null,
   "metadata": {},
   "outputs": [],
   "source": [
    "print (tupla[1:3])"
   ]
  },
  {
   "cell_type": "markdown",
   "metadata": {},
   "source": [
    "Las cadenas se pueden comportar como una lista de caracteres, se puede acceder a los caracteres como elementos de una tupla."
   ]
  },
  {
   "cell_type": "code",
   "execution_count": null,
   "metadata": {},
   "outputs": [],
   "source": [
    "cadena = \"Hola Mundo\""
   ]
  },
  {
   "cell_type": "code",
   "execution_count": null,
   "metadata": {},
   "outputs": [],
   "source": [
    "print (cadena [1])"
   ]
  },
  {
   "cell_type": "code",
   "execution_count": null,
   "metadata": {},
   "outputs": [],
   "source": [
    "print (cadena [1:5])"
   ]
  },
  {
   "cell_type": "code",
   "execution_count": null,
   "metadata": {},
   "outputs": [],
   "source": [
    "print (cadena [0:10:2])"
   ]
  },
  {
   "cell_type": "markdown",
   "metadata": {},
   "source": [
    "Un diccionario es un conjunto de valores emparejados."
   ]
  },
  {
   "cell_type": "code",
   "execution_count": null,
   "metadata": {},
   "outputs": [],
   "source": [
    "diccionario = {\"animal\": \"gato\", \"cosa\": \"piedra\", \"planta\": \"lechuga\"}"
   ]
  },
  {
   "cell_type": "code",
   "execution_count": null,
   "metadata": {},
   "outputs": [],
   "source": [
    "print (diccionario)"
   ]
  },
  {
   "cell_type": "code",
   "execution_count": null,
   "metadata": {},
   "outputs": [],
   "source": [
    "print (diccionario [\"animal\"])"
   ]
  },
  {
   "cell_type": "code",
   "execution_count": null,
   "metadata": {},
   "outputs": [],
   "source": [
    "print (diccionario [\"cosa\"])"
   ]
  },
  {
   "cell_type": "code",
   "execution_count": null,
   "metadata": {},
   "outputs": [],
   "source": [
    "print (diccionario [\"planta\"])"
   ]
  },
  {
   "cell_type": "code",
   "execution_count": null,
   "metadata": {},
   "outputs": [],
   "source": [
    "diccionario [\"planta\"] = \"coliflor\""
   ]
  },
  {
   "cell_type": "code",
   "execution_count": null,
   "metadata": {},
   "outputs": [],
   "source": [
    "print (diccionario [\"planta\"])"
   ]
  },
  {
   "cell_type": "markdown",
   "metadata": {},
   "source": [
    "Un set es una colección ordenada de objetos, no posee índice y no puede contener objetos repetidos."
   ]
  },
  {
   "cell_type": "code",
   "execution_count": null,
   "metadata": {},
   "outputs": [],
   "source": [
    "cubiertos = {\"tenedor\", \"cuchara\", \"cuchillo\", \"cucharilla\"}"
   ]
  },
  {
   "cell_type": "code",
   "execution_count": null,
   "metadata": {},
   "outputs": [],
   "source": [
    "vajilla = set ([\"plato\", \"taza\", \"copa\"])"
   ]
  },
  {
   "cell_type": "code",
   "execution_count": null,
   "metadata": {},
   "outputs": [],
   "source": [
    "print (cubiertos)"
   ]
  },
  {
   "cell_type": "code",
   "execution_count": null,
   "metadata": {},
   "outputs": [],
   "source": [
    "print (vajilla)"
   ]
  },
  {
   "cell_type": "markdown",
   "metadata": {},
   "source": [
    "En Python una variable es una referencia a un dato. Cuando copiamos una variable creamos una etiqueta apuntando a ese dato."
   ]
  },
  {
   "cell_type": "code",
   "execution_count": null,
   "metadata": {},
   "outputs": [],
   "source": [
    "variable1 = \"Hola\""
   ]
  },
  {
   "cell_type": "code",
   "execution_count": null,
   "metadata": {},
   "outputs": [],
   "source": [
    "variable2 = variable1"
   ]
  },
  {
   "cell_type": "code",
   "execution_count": null,
   "metadata": {},
   "outputs": [],
   "source": [
    "variable3 = \"adios\""
   ]
  },
  {
   "cell_type": "code",
   "execution_count": null,
   "metadata": {},
   "outputs": [],
   "source": [
    "print (id(variable1))"
   ]
  },
  {
   "cell_type": "code",
   "execution_count": null,
   "metadata": {},
   "outputs": [],
   "source": [
    "print (id(variable2))"
   ]
  },
  {
   "cell_type": "code",
   "execution_count": null,
   "metadata": {},
   "outputs": [],
   "source": [
    "print (id(variable3))"
   ]
  },
  {
   "cell_type": "markdown",
   "metadata": {},
   "source": [
    "La estructura de control por excelencia es el if"
   ]
  },
  {
   "cell_type": "code",
   "execution_count": null,
   "metadata": {},
   "outputs": [],
   "source": [
    "variable = 7\n",
    "if variable > 5:\n",
    "    print (\"la variable es mayor que 5\")\n",
    "print (\"esto se muestra siempre.\")"
   ]
  },
  {
   "cell_type": "code",
   "execution_count": null,
   "metadata": {},
   "outputs": [],
   "source": [
    "variable = 2\n",
    "if variable > 3:\n",
    "    print (\"La variable es mayor que 3\")\n",
    "else:\n",
    "    print (\"print la variable es menor que 3\") "
   ]
  },
  {
   "cell_type": "code",
   "execution_count": null,
   "metadata": {},
   "outputs": [],
   "source": [
    "variable = 2\n",
    "if variable > 3:\n",
    "    print (\"La variable es mayor que 3.\")\n",
    "    print (\"No está mal\")\n",
    "elif variable < 3:\n",
    "    print (\"La variable es menor que 3.\")\n",
    "else: \n",
    "    print (\"La variable es 3.\")"
   ]
  },
  {
   "cell_type": "markdown",
   "metadata": {},
   "source": [
    "La instrucción WHILE crea un bucle que se ejecutará mientras su condición sea cierta."
   ]
  },
  {
   "cell_type": "code",
   "execution_count": null,
   "metadata": {},
   "outputs": [],
   "source": [
    "a = 0\n",
    "\n",
    "while a < 10:\n",
    "    a = a + 1\n",
    "    print (a)"
   ]
  },
  {
   "cell_type": "code",
   "execution_count": null,
   "metadata": {},
   "outputs": [],
   "source": [
    "a = 0\n",
    "\n",
    "while a < 10:\n",
    "    a = a + 1\n",
    "    if a == 3:\n",
    "        break\n",
    "    print (a)"
   ]
  },
  {
   "cell_type": "code",
   "execution_count": null,
   "metadata": {},
   "outputs": [],
   "source": [
    "a = 0\n",
    "\n",
    "while a < 10:\n",
    "    a = a + 1\n",
    "    if a == 3:\n",
    "        continue\n",
    "    print (a)"
   ]
  },
  {
   "cell_type": "markdown",
   "metadata": {},
   "source": [
    "ESCRIBIR UN PEQUEÑO PROGRAMA QUE IMPRIMA LAS TABLAS DE MULTIPLICAR DEL TRES AL SIETE"
   ]
  },
  {
   "cell_type": "code",
   "execution_count": null,
   "metadata": {},
   "outputs": [],
   "source": [
    "primero = 3\n",
    "\n",
    "while primero <= 7:\n",
    "    print (\"Tabla del \" + str (primero))\n",
    "    segundo = 1\n",
    "    while segundo <= 10:\n",
    "        print (str(primero) + \" X \" + str(segundo) + \" = \" + str(primero * segundo))\n",
    "        segundo += 1\n",
    "    primero += 1\n",
    "print (\"###################\")"
   ]
  },
  {
   "cell_type": "markdown",
   "metadata": {},
   "source": [
    "La instrucción FOR se utiliza en Python para recorrer listas, diccionarios y en general iteradores."
   ]
  },
  {
   "cell_type": "code",
   "execution_count": null,
   "metadata": {},
   "outputs": [],
   "source": [
    "lista = [\"calcetín\", \"pantalón\", \"camisa\", \"camiseta\", \"otro calcetín\", \"gorra\"]\n",
    "\n",
    "for prenda in lista:\n",
    "    print (\"La lavadora se ha comida mi \" + prenda)"
   ]
  },
  {
   "cell_type": "code",
   "execution_count": null,
   "metadata": {},
   "outputs": [],
   "source": [
    "saludo = \"Hola Mundo\"\n",
    "\n",
    "print (saludo[1])\n",
    "for letra in saludo:\n",
    "    print (letra)"
   ]
  },
  {
   "cell_type": "code",
   "execution_count": null,
   "metadata": {},
   "outputs": [],
   "source": [
    "datos = {\"Nombre\": \"José\", \"Apellido\": \"González\", \"Altura\": \"1,70\"} \n",
    "\n",
    "for concepto in datos:\n",
    "    print (concepto + \": \" + datos[concepto])"
   ]
  },
  {
   "cell_type": "code",
   "execution_count": null,
   "metadata": {},
   "outputs": [],
   "source": [
    "datos = {\"Nombre\": \"José\", \"Apellido\": \"González\", \"Altura\": \"1,70\"} \n",
    "\n",
    "for concepto, valor in datos.items() :\n",
    "    print (concepto + \": \" + valor)"
   ]
  },
  {
   "cell_type": "markdown",
   "metadata": {},
   "source": [
    "Escribimos a continuación un pequeño programa que divida un número por cero... "
   ]
  },
  {
   "cell_type": "code",
   "execution_count": null,
   "metadata": {},
   "outputs": [],
   "source": [
    "dividendo = 1\n",
    "divisor = 0\n",
    "\n",
    "resultado = dividendo/divisor\n",
    "print (\"La división resulta: \", resultado)\n",
    "print (\"The End\")"
   ]
  },
  {
   "cell_type": "markdown",
   "metadata": {},
   "source": [
    "Los errores en tiempo de ejecución se manejan mediante la estructura TRY. "
   ]
  },
  {
   "cell_type": "code",
   "execution_count": null,
   "metadata": {},
   "outputs": [],
   "source": [
    "dividendo = 1\n",
    "divisor = 0\n",
    "\n",
    "try:\n",
    "    resultado = dividendo/divisor\n",
    "    print (\"La división resulta: \", resultado)\n",
    "except:\n",
    "    if divisor == 0:\n",
    "        print (\"No se puede dividir por cero, animal.\")\n",
    "print (\"The End\")"
   ]
  },
  {
   "cell_type": "code",
   "execution_count": null,
   "metadata": {},
   "outputs": [],
   "source": [
    "dividendo = \"A\"\n",
    "divisor = 2\n",
    "\n",
    "try:\n",
    "    resultado = dividendo/divisor\n",
    "    print (\"La división resulta: \", resultado)\n",
    "except ZeroDivisionError:\n",
    "    if divisor == 0:\n",
    "        print (\"No se puede dividir por cero, animal.\")\n",
    "except TypeError:\n",
    "        print (\"Eso no es un número, animal.\")\n",
    "print (\"The End\")"
   ]
  },
  {
   "cell_type": "markdown",
   "metadata": {},
   "source": [
    "Una función corresponde con una parte de código que puede ser llamada desde varios puntos de nuestro programa. "
   ]
  },
  {
   "cell_type": "code",
   "execution_count": null,
   "metadata": {},
   "outputs": [],
   "source": [
    "def saluda():\n",
    "    print (\"Hola Mundo\")\n",
    "    print (\"aquí estamos.\")\n",
    "    print (\"Pefecto!!!\")\n",
    "saluda()"
   ]
  },
  {
   "cell_type": "code",
   "execution_count": null,
   "metadata": {},
   "outputs": [],
   "source": [
    "def dame_pi():\n",
    "    numero_pi = 3.141592\n",
    "    return numero_pi\n",
    "pi = dame_pi()\n",
    "print (pi)"
   ]
  },
  {
   "cell_type": "code",
   "execution_count": null,
   "metadata": {},
   "outputs": [],
   "source": [
    "def dame_pi():\n",
    "    numero_pi = 3.141592\n",
    "    return numero_pi\n",
    "print (dame_pi())"
   ]
  },
  {
   "cell_type": "code",
   "execution_count": null,
   "metadata": {},
   "outputs": [],
   "source": [
    "def cuadrado(numero):\n",
    "    cuadrado = numero * numero\n",
    "    return cuadrado\n",
    "    \n",
    "print (cuadrado(5))\n",
    "print (cuadrado(6))"
   ]
  },
  {
   "cell_type": "code",
   "execution_count": null,
   "metadata": {},
   "outputs": [],
   "source": [
    "def tabla_multiplicar (nombre, numero = 1):\n",
    "    print (\"Tabla de multiplicar del \" + str (numero))\n",
    "    print (\"Impresa automáticamente por \" + nombre)\n",
    "    \n",
    "    i = 0\n",
    "    while i < 11:\n",
    "        print (str(numero) + \" X \" + str(i) + \" = \" + str(numero * i))\n",
    "        i += 1\n",
    "\n",
    "tabla_multiplicar (\"Gabriel\", 5)"
   ]
  },
  {
   "cell_type": "markdown",
   "metadata": {},
   "source": [
    "A veces desconocemos el número de argumentos que va a recibir una función. Los argumentos fijos, deben ir al principio."
   ]
  },
  {
   "cell_type": "code",
   "execution_count": null,
   "metadata": {},
   "outputs": [],
   "source": [
    "def imprime_lista (nombre_lista, *cosas):\n",
    "    print (\"Lista de \" + nombre_lista)\n",
    "    \n",
    "    for cosa in cosas:\n",
    "        print (cosa)\n",
    "\n",
    "imprime_lista (\"Piezas\", \"tornillo\", \"tuerca\", \"otro tornillo\", \"cable\", \"termómetro\")"
   ]
  },
  {
   "cell_type": "code",
   "execution_count": null,
   "metadata": {},
   "outputs": [],
   "source": [
    "def imprime_datos (nombre, **datos):\n",
    "    print (\"Datos de \" + nombre)\n",
    "    for clave in datos:\n",
    "        print (clave + \": \" + datos[clave])\n",
    "\n",
    "imprime_datos (\"Pablo\", edad = \"mucha\", estado = \"Uyyyy\", agradable = \"A veces\")"
   ]
  },
  {
   "cell_type": "markdown",
   "metadata": {},
   "source": [
    "El ámbito de una variable corresponde con la parte de código donde esta es accesible."
   ]
  },
  {
   "cell_type": "code",
   "execution_count": null,
   "metadata": {},
   "outputs": [],
   "source": [
    "variable = \"fuera de la función\"\n",
    "\n",
    "def una_funcion():\n",
    "    variable = \"dentro de la función\"\n",
    "    print (variable)\n",
    "\n",
    "una_funcion()\n",
    "\n",
    "print (variable)"
   ]
  },
  {
   "cell_type": "code",
   "execution_count": null,
   "metadata": {},
   "outputs": [],
   "source": [
    "variable = \"fuera de la función\"\n",
    "\n",
    "def una_funcion():\n",
    "    # no asignamos valor a la variable\n",
    "    print (variable)\n",
    "\n",
    "una_funcion()\n",
    "\n",
    "print (variable)"
   ]
  },
  {
   "cell_type": "code",
   "execution_count": null,
   "metadata": {},
   "outputs": [],
   "source": [
    "# Sin embargo, se pueden declarar variables globales dentro de una función\n",
    "\n",
    "variable = \"fuera de la función\"\n",
    "\n",
    "def una_funcion():\n",
    "    global variable \n",
    "    variable = \"dentro de la función\"\n",
    "    print (variable)\n",
    "\n",
    "una_funcion()\n",
    "\n",
    "print (variable)\n"
   ]
  },
  {
   "cell_type": "code",
   "execution_count": null,
   "metadata": {},
   "outputs": [],
   "source": [
    "\"\"\" Esta función se utiliza para comparar dos \n",
    "números indicando cuál es el mayor de ambos\"\"\"\n",
    "\n",
    "def compara_numeros (n1, n2):\n",
    "    if (n1 > n2):\n",
    "        print (\"El número mayor es \" + str(n1))\n",
    "        return 1\n",
    "    elif (n1 < n2):\n",
    "        print (\"El número mayor es \" + str(n2))\n",
    "        return 2\n",
    "    else:\n",
    "        print (\"Ambos números son iguales\" + str(n1))\n",
    "        return 0\n",
    "compara_numeros (100, 7) "
   ]
  },
  {
   "cell_type": "code",
   "execution_count": null,
   "metadata": {},
   "outputs": [],
   "source": [
    "\"\"\" En este caso se genera la lista, después se hace un return \n",
    "y por último un bucle for para su impresión, con \n",
    "el consiguiente tiempo de proceso y almacenamiento\"\"\"\n",
    "\n",
    "def genera_lista(num):\n",
    "    \n",
    "    lista = []\n",
    "    i = 1\n",
    "    while i <= num:\n",
    "        lista.append (i)\n",
    "        i += 1\n",
    "    return lista\n",
    "\n",
    "for i in genera_lista(6):\n",
    "    print (i)"
   ]
  },
  {
   "cell_type": "code",
   "execution_count": null,
   "metadata": {},
   "outputs": [],
   "source": [
    "\"\"\" Si utilizamos un generador nos ayudará a devolver un valor cada vez\"\"\"\n",
    "\n",
    "def genera_lista(num):\n",
    "    lista = []\n",
    "    i = 1\n",
    "    while i <= num:\n",
    "        yield i\n",
    "        i += 1\n",
    "lista = genera_lista (6)\n",
    "\n",
    "for i in genera_lista(6):\n",
    "    print (i)"
   ]
  },
  {
   "cell_type": "code",
   "execution_count": null,
   "metadata": {},
   "outputs": [],
   "source": [
    "def decorador(funcion_entrada):\n",
    "    def funcion_salida (param):\n",
    "        if param == \"Lidia\":\n",
    "            print (\"Buenos días, guapa\")\n",
    "        elif param == \"Pablo\":\n",
    "            print (\"Buenos días, guapo\")\n",
    "        else:\n",
    "            funcion_entrada(param)\n",
    "        print (\"Que tengas un buen día\")\n",
    "    return funcion_salida \n",
    "\n",
    "@decorador\n",
    "def saludo(nombre):\n",
    "    print (\"Hola \" + nombre)\n",
    "    \n",
    "saludo (\"Pablo\")\n",
    "saludo (\"Lidia\")"
   ]
  },
  {
   "cell_type": "code",
   "execution_count": 1,
   "metadata": {},
   "outputs": [
    {
     "name": "stdout",
     "output_type": "stream",
     "text": [
      "8\n"
     ]
    }
   ],
   "source": [
    "# Ejercicio 1\n",
    "def max_de_tres (n1, n2, n3):\n",
    "    if n1 > n2 and n1 > n3:\n",
    "        print (n1)\n",
    "    elif n2 > n1 and n2 > n3:\n",
    "        print (n2)\n",
    "    elif n3 > n1 and n3 > n2:\n",
    "        print (n3)\n",
    "    else:\n",
    "        print (\"Son iguales\")\n",
    "\n",
    "max_de_tres (2, 8, 2)\n",
    "        "
   ]
  },
  {
   "cell_type": "code",
   "execution_count": 2,
   "metadata": {},
   "outputs": [
    {
     "data": {
      "text/plain": [
       "True"
      ]
     },
     "execution_count": 2,
     "metadata": {},
     "output_type": "execute_result"
    }
   ],
   "source": [
    "# Ejercicio 2\n",
    "def es_vocal (x):\n",
    "    if x == \"a\" or x == \"e\" or x == \"i\" or x == \"o\" or x == \"u\":\n",
    "        return True\n",
    "    elif x == \"A\" or x == \"E\" or x == \"I\" or x == \"O\" or x == \"U\":\n",
    "        return True\n",
    "    else:\n",
    "        return False\n",
    "\n",
    "es_vocal(\"a\")"
   ]
  },
  {
   "cell_type": "code",
   "execution_count": 3,
   "metadata": {},
   "outputs": [
    {
     "data": {
      "text/plain": [
       "15"
      ]
     },
     "execution_count": 3,
     "metadata": {},
     "output_type": "execute_result"
    }
   ],
   "source": [
    "# Ejercicio 3\n",
    "def sum (lista):\n",
    "    suma = 0\n",
    "    for i in lista:\n",
    "        suma += i\n",
    "    return (suma)\n",
    "       \n",
    "   \n",
    "def multip (lista):\n",
    "    multiplicacion = 1\n",
    "    for i in lista:\n",
    "        multiplicacion *= i\n",
    "    return (multiplicacion)\n",
    "\n",
    "sum ([1,2,3,4,5])\n"
   ]
  },
  {
   "cell_type": "code",
   "execution_count": 4,
   "metadata": {},
   "outputs": [
    {
     "data": {
      "text/plain": [
       "120"
      ]
     },
     "execution_count": 4,
     "metadata": {},
     "output_type": "execute_result"
    }
   ],
   "source": [
    "multip ([1,2,3,4,5])"
   ]
  },
  {
   "cell_type": "code",
   "execution_count": 5,
   "metadata": {},
   "outputs": [],
   "source": [
    "# Ejercicio 4\n",
    "def main():\n",
    "    a_curso = input (\"Ingresa el año en curso: \")\n",
    "    for i  in range (3):\n",
    "        nombre = input (\"Nombre de la persona: \")\n",
    "        nacimiento = input (\"Año de nacimiento: \")\n",
    "        print  (nombre, \"cumple\", int(a_curso) - int(nacimiento), \"años en el\", a_curso)"
   ]
  },
  {
   "cell_type": "code",
   "execution_count": null,
   "metadata": {},
   "outputs": [],
   "source": [
    "main()"
   ]
  },
  {
   "cell_type": "code",
   "execution_count": null,
   "metadata": {},
   "outputs": [],
   "source": [
    "2020, \"Gabriel\", 1966"
   ]
  },
  {
   "cell_type": "code",
   "execution_count": 11,
   "metadata": {},
   "outputs": [
    {
     "name": "stdout",
     "output_type": "stream",
     "text": [
      "357\n"
     ]
    }
   ],
   "source": [
    "numero = 0x165\n",
    "print (numero)"
   ]
  },
  {
   "cell_type": "code",
   "execution_count": 12,
   "metadata": {},
   "outputs": [
    {
     "name": "stdout",
     "output_type": "stream",
     "text": [
      "(34+5j)\n"
     ]
    }
   ],
   "source": [
    "numero = 34 + 5j\n",
    "\n",
    "print (numero)"
   ]
  },
  {
   "cell_type": "code",
   "execution_count": 13,
   "metadata": {},
   "outputs": [
    {
     "name": "stdout",
     "output_type": "stream",
     "text": [
      "9\n"
     ]
    }
   ],
   "source": [
    "numero = 0b1001\n",
    "print (numero)"
   ]
  },
  {
   "cell_type": "code",
   "execution_count": 14,
   "metadata": {},
   "outputs": [
    {
     "name": "stdout",
     "output_type": "stream",
     "text": [
      "1200000.0\n"
     ]
    }
   ],
   "source": [
    "numero = 12e5\n",
    "print (numero)"
   ]
  },
  {
   "cell_type": "code",
   "execution_count": 15,
   "metadata": {},
   "outputs": [
    {
     "name": "stdin",
     "output_type": "stream",
     "text": [
      "Escribe una edad:  20\n",
      "Escribe una edad:  21\n",
      "Escribe una edad:  22\n",
      "Escribe una edad:  23\n",
      "Escribe una edad:  24\n",
      "Escribe una edad:  25\n",
      "Escribe una edad:  10\n",
      "Escribe una edad:  11\n",
      "Escribe una edad:  12\n",
      "Escribe una edad:  15\n"
     ]
    },
    {
     "name": "stdout",
     "output_type": "stream",
     "text": [
      "6\n"
     ]
    }
   ],
   "source": [
    "## Ejercicio 5\n",
    "\n",
    "array = []\n",
    "\n",
    "for x in range(10):\n",
    "    array.append(input(\"Escribe una edad: \"))\n",
    "\n",
    "cantidad = 0\n",
    "for elemento in array:\n",
    "    if int(elemento) >= 20:\n",
    "        cantidad = cantidad + 1\n",
    "    else:\n",
    "        cantidad = cantidad\n",
    "print(cantidad)"
   ]
  },
  {
   "cell_type": "code",
   "execution_count": 16,
   "metadata": {},
   "outputs": [
    {
     "name": "stdin",
     "output_type": "stream",
     "text": [
      "Escribe un nombre:  Pedro\n",
      "Escribe un nombre:  Juan\n",
      "Qué letra buscas?:  i\n"
     ]
    },
    {
     "name": "stdout",
     "output_type": "stream",
     "text": [
      "0\n",
      "['pedro', 'juan']\n"
     ]
    }
   ],
   "source": [
    "## Ejercicio 6\n",
    "## Definir una lista con un conjunto de nombres,imprimir la cantidad que continen la letra a. \n",
    "## También se puede hacer elegir al usuario la letra a buscar.  (Un poco más emocionante)\n",
    "\n",
    "nombres = []\n",
    "for x in range(2):\n",
    "    nombres.append(input(\"Escribe un nombre: \").lower())\n",
    "\n",
    "letra_buscada = input(\"Qué letra buscas?: \")\n",
    "cantidad = 0\n",
    "\n",
    "for nombre in nombres:\n",
    "    for letra in nombre:\n",
    "        if letra == letra_buscada:\n",
    "            cantidad = cantidad + 1\n",
    "            break\n",
    "        else:\n",
    "            cantidad = cantidad\n",
    "print (cantidad)\n",
    "print (nombres)\n"
   ]
  },
  {
   "cell_type": "code",
   "execution_count": 17,
   "metadata": {},
   "outputs": [
    {
     "name": "stdin",
     "output_type": "stream",
     "text": [
      "Escribe una palabra:  Hola\n"
     ]
    },
    {
     "name": "stdout",
     "output_type": "stream",
     "text": [
      "Hay 1 a\n",
      "Hay 0 e\n",
      "Hay 0 i\n",
      "Hay 1 o\n",
      "Hay 0 u\n"
     ]
    }
   ],
   "source": [
    "## Ejercicio 7\n",
    "def contar_vocales(palabra):\n",
    "    palabra_min = palabra.lower()\n",
    "    cant_a = 0\n",
    "    cant_e = 0\n",
    "    cant_i = 0\n",
    "    cant_o = 0\n",
    "    cant_u = 0\n",
    "    \n",
    "    for letra in palabra_min:\n",
    "        if letra == \"a\":\n",
    "            cant_a = cant_a + 1\n",
    "        elif letra == \"e\":\n",
    "            cant_e = cant_e + 1\n",
    "        elif letra == \"i\":\n",
    "            cant_i = cant_i + 1\n",
    "        elif letra == \"o\":\n",
    "            cant_o = cant_o + 1\n",
    "        elif letra == \"u\":\n",
    "            cant_u = cant_u + 1\n",
    "\n",
    "    print(\"Hay \"+ str(cant_a)+ \" a\")\n",
    "    print(\"Hay \"+ str(cant_e)+ \" e\")\n",
    "    print(\"Hay \"+ str(cant_i)+ \" i\")\n",
    "    print(\"Hay \"+ str(cant_o)+ \" o\")\n",
    "    print(\"Hay \"+ str(cant_u)+ \" u\")\n",
    "\n",
    "\n",
    "palabra = input(\"Escribe una palabra: \")\n",
    "contar_vocales(palabra)\t"
   ]
  },
  {
   "cell_type": "code",
   "execution_count": 18,
   "metadata": {},
   "outputs": [
    {
     "name": "stdin",
     "output_type": "stream",
     "text": [
      "Escriba un año para saber si es bisiesto:  2024\n"
     ]
    },
    {
     "name": "stdout",
     "output_type": "stream",
     "text": [
      "Es bisiesto\n"
     ]
    }
   ],
   "source": [
    "## Ejercicio 8\n",
    "## Escriba una funcion es_bisiesto() que determine si un año determinado es un año bisiesto. \n",
    "## Un año bisiesto es divisible por 4, pero no por 100.\n",
    "\n",
    "def es_bisiesto(anyo):\n",
    "    if anyo%4 == 0:\n",
    "        if anyo%100 != 0:\n",
    "            print(\"Es bisiesto\")\n",
    "        else:\n",
    "            print(\"No es bisiesto\")\n",
    "    else:\n",
    "        print(\"No es bisiesto\")\n",
    "\n",
    "anyo = input(\"Escriba un año para saber si es bisiesto: \")\n",
    "es_bisiesto(int(anyo))"
   ]
  },
  {
   "cell_type": "code",
   "execution_count": 19,
   "metadata": {},
   "outputs": [
    {
     "name": "stdin",
     "output_type": "stream",
     "text": [
      "Escribe una palabra:  Campeón\n",
      "Escribe otra palabra:  Camaleón\n"
     ]
    },
    {
     "name": "stdout",
     "output_type": "stream",
     "text": [
      "Riman\n"
     ]
    }
   ],
   "source": [
    "## Ejercicio 9\n",
    "## Escribe un programa que pida dos palabras y diga si riman o no. \n",
    "## Si coinciden las tres últimas letras tiene que decir que riman.\n",
    "## Si coinciden sólo las dos últimas tiene que decir que riman un poco y si no, que no riman.\n",
    "\n",
    "palabra_uno = input(\"Escribe una palabra: \")\n",
    "palabra_dos = input(\"Escribe otra palabra: \")\n",
    "\n",
    "array_uno = []\n",
    "array_dos = []\n",
    "\n",
    "for x in range(1,4):\n",
    "    letra_uno = palabra_uno[(len(palabra_uno)-x)]\n",
    "    array_uno.append(letra_uno)\n",
    "\n",
    "for x in range(1,4):\n",
    "    letra_dos = palabra_dos[(len(palabra_dos)-x)]\n",
    "    array_dos.append(letra_dos)\n",
    "\n",
    "\n",
    "if array_uno[0] == array_dos[0]:\n",
    "    if array_uno[1] == array_dos[1]:\n",
    "        if array_uno[2] == array_dos[2]:\n",
    "            print(\"Riman\")\n",
    "        else:\n",
    "            print(\"Riman un poco\")\n",
    "    else:\n",
    "        print(\"No riman\")\n",
    "else:\n",
    "    print(\"No riman\")"
   ]
  },
  {
   "cell_type": "code",
   "execution_count": null,
   "metadata": {},
   "outputs": [],
   "source": []
  },
  {
   "cell_type": "code",
   "execution_count": null,
   "metadata": {},
   "outputs": [],
   "source": []
  }
 ],
 "metadata": {
  "kernelspec": {
   "display_name": "Python 3",
   "language": "python",
   "name": "python3"
  },
  "language_info": {
   "codemirror_mode": {
    "name": "ipython",
    "version": 3
   },
   "file_extension": ".py",
   "mimetype": "text/x-python",
   "name": "python",
   "nbconvert_exporter": "python",
   "pygments_lexer": "ipython3",
   "version": "3.8.5"
  }
 },
 "nbformat": 4,
 "nbformat_minor": 4
}

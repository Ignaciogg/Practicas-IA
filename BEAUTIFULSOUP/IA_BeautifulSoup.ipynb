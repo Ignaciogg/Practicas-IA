{
 "cells": [
  {
   "cell_type": "code",
   "execution_count": 4,
   "id": "7a70da4a-f87b-46d6-91ff-bb229fb940c6",
   "metadata": {},
   "outputs": [
    {
     "name": "stdout",
     "output_type": "stream",
     "text": [
      "Requirement already satisfied: beautifulsoup4 in c:\\users\\nacho\\anaconda3\\lib\\site-packages (4.9.3)\n",
      "Requirement already satisfied: soupsieve>1.2 in c:\\users\\nacho\\anaconda3\\lib\\site-packages (from beautifulsoup4) (2.2.1)\n",
      "Note: you may need to restart the kernel to use updated packages.\n"
     ]
    }
   ],
   "source": [
    "pip install beautifulsoup4"
   ]
  },
  {
   "cell_type": "code",
   "execution_count": 5,
   "id": "a8cb6ef1-ab3b-4ada-b10d-0ab2bc2014e6",
   "metadata": {},
   "outputs": [
    {
     "name": "stdout",
     "output_type": "stream",
     "text": [
      "Requirement already satisfied: lxml in c:\\users\\nacho\\anaconda3\\lib\\site-packages (4.6.3)\n",
      "Note: you may need to restart the kernel to use updated packages.\n"
     ]
    }
   ],
   "source": [
    "pip install lxml"
   ]
  },
  {
   "cell_type": "code",
   "execution_count": 12,
   "id": "c6ea33c3-c67a-4c88-b25f-2b4e20e4e5d0",
   "metadata": {},
   "outputs": [],
   "source": [
    "import requests as rq\n",
    "import re\n",
    "from bs4 import BeautifulSoup as bs\n",
    "\n",
    "miRequest = rq.get(\"https://www.monographcomms.ca/\")\n",
    "soup = bs(miRequest.text, \"lxml\")"
   ]
  },
  {
   "cell_type": "code",
   "execution_count": 13,
   "id": "22033d0e-da97-4fe9-8407-562b62c42bbd",
   "metadata": {},
   "outputs": [
    {
     "data": {
      "text/plain": [
       "<!DOCTYPE html>\n",
       "<!-- Last Published: Wed Nov 18 2020 20:36:24 GMT+0000 (Coordinated Universal Time) --><html data-wf-domain=\"www.monographcomms.ca\" data-wf-page=\"5f207c19889c5597354727c1\" data-wf-site=\"5f00ac7516929863f832df2c\"><head><meta charset=\"utf-8\"/><title>Monograph Communications</title><meta content=\"We specialize in creative, clear, and cohesive communications solutions that build memorable experiences.\" name=\"description\"/><meta content=\"Monograph Communications\" property=\"og:title\"/><meta content=\"We specialize in creative, clear, and cohesive communications solutions that build memorable experiences.\" property=\"og:description\"/><meta content=\"https://uploads-ssl.webflow.com/5f00ac7516929863f832df2c/5f595f600925f3918dc2511e_Opengraph.png\" property=\"og:image\"/><meta content=\"Monograph Communications\" property=\"twitter:title\"/><meta content=\"We specialize in creative, clear, and cohesive communications solutions that build memorable experiences.\" property=\"twitter:description\"/><meta content=\"https://uploads-ssl.webflow.com/5f00ac7516929863f832df2c/5f595f600925f3918dc2511e_Opengraph.png\" property=\"twitter:image\"/><meta content=\"website\" property=\"og:type\"/><meta content=\"summary_large_image\" name=\"twitter:card\"/><meta content=\"width=device-width, initial-scale=1\" name=\"viewport\"/><link href=\"https://uploads-ssl.webflow.com/5f00ac7516929863f832df2c/css/monographcomms.webflow.259868d6f.min.css\" rel=\"stylesheet\" type=\"text/css\"/><script src=\"https://ajax.googleapis.com/ajax/libs/webfont/1.6.26/webfont.js\" type=\"text/javascript\"></script><script type=\"text/javascript\">WebFont.load({  google: {    families: [\"Roboto:100,100italic,300,300italic,regular,italic,500,500italic,700,700italic,900,900italic\",\"Marmelad:regular\"]  }});</script><!--[if lt IE 9]><script src=\"https://cdnjs.cloudflare.com/ajax/libs/html5shiv/3.7.3/html5shiv.min.js\" type=\"text/javascript\"></script><![endif]--><script type=\"text/javascript\">!function(o,c){var n=c.documentElement,t=\" w-mod-\";n.className+=t+\"js\",(\"ontouchstart\"in o||o.DocumentTouch&&c instanceof DocumentTouch)&&(n.className+=t+\"touch\")}(window,document);</script><link href=\"https://uploads-ssl.webflow.com/5f00ac7516929863f832df2c/5f0288c845308f58114a7474_favicon.png\" rel=\"shortcut icon\" type=\"image/x-icon\"/><link href=\"https://uploads-ssl.webflow.com/5f00ac7516929863f832df2c/5f028599310d7da02c61b53d_webclip.png\" rel=\"apple-touch-icon\"/><script async=\"\" src=\"https://www.googletagmanager.com/gtag/js?id=UA-112311929-2\"></script><script type=\"text/javascript\">window.dataLayer = window.dataLayer || [];function gtag(){dataLayer.push(arguments);}gtag('js', new Date());gtag('config', 'UA-112311929-2', {'anonymize_ip': false});</script><style>\n",
       "    ::-moz-selection { /* Firefox */\n",
       "        color: #fff;\n",
       "        background: #000;\n",
       "    }\n",
       "    ::selection {\n",
       "        color: #fff;\n",
       "        background: #000;\n",
       "    }\n",
       "</style>\n",
       "</head><body><div class=\"page-background\" style=\"opacity:0\"></div><div class=\"overlay\"><div class=\"menu-links\"><a aria-current=\"page\" class=\"nav-link w--current\" href=\"/\">Home</a><a class=\"nav-link about\" href=\"/about\">About</a><a class=\"nav-link services\" href=\"/services\">Services</a><a class=\"nav-link contact\" href=\"/contact\">Contact</a></div><div class=\"socials\"><div class=\"div-block-28\"></div><a class=\"social-links\" href=\"#\">Dribble</a><a class=\"social-links\" href=\"#\">Medium</a><a class=\"social-links\" href=\"#\">Facebook</a><a class=\"social-links\" href=\"#\">Instagram</a></div><div class=\"menu-bg\"></div></div><div class=\"section\"><div class=\"container w-container\"><div class=\"div-block-19\"><a aria-current=\"page\" class=\"logo w-inline-block w--current\" href=\"/\"><div class=\"logo-text\">Mono<span class=\"serif\">graph</span></div></a><div class=\"menu\" data-animation-type=\"lottie\" data-autoplay=\"0\" data-default-duration=\"4\" data-direction=\"1\" data-duration=\"0\" data-is-ix2-target=\"1\" data-loop=\"0\" data-renderer=\"svg\" data-src=\"https://uploads-ssl.webflow.com/5f00ac7516929863f832df2c/5f4afc885bfdfb36b79f0c67_lf30_editor_XLPk4g.json\" data-w-id=\"00f4c42d-3182-5d08-cbe5-140c017c71a8\"></div></div></div></div><div class=\"section h1\"><div class=\"container w-container\"><h1>Plain <span class=\"serif\">language,</span><br/><span class=\"serif\"></span></h1><h1 class=\"aligned-right\"><span class=\"serif\">Extraordinary</span> results<br/><span class=\"serif\"></span></h1></div></div><div class=\"section\"><div class=\"container border-top w-container\"><div class=\"grid-3-columns border-bottom\"><div class=\"body-left-column\"><div class=\"div-block-3\"><h3>We <span class=\"serif\">specialize</span> in creative, clear, and cohesive <span class=\"serif\">communications solutions</span> that build <span class=\"serif\">memorable experiences.</span></h3><div class=\"div-block-36\"><h4 class=\"field-label\">Mailing List</h4><div class=\"form-block w-form\"><form class=\"subscribe-form-flex\" data-name=\"Email Form\" id=\"email-form\" name=\"email-form\"><div class=\"subscribe-form-input-wrapper\"><input class=\"subscribe-form-input w-input\" data-name=\"Subscriber Email\" id=\"Subscriber-Email\" maxlength=\"256\" name=\"Subscriber-Email\" placeholder=\"Your email\" required=\"\" type=\"email\"/></div><input class=\"subscribe-button w-button\" data-wait=\"\" type=\"submit\" value=\"\"/></form><div class=\"success-message w-form-done\"><div><span class=\"serif\">Thank you<br/></span>Your submission has been received</div></div><div class=\"w-form-fail\"><div>Oops! Something went wrong while submitting the form.</div></div></div></div></div></div><div class=\"body-right-column\" id=\"w-node-58c44c7ce21a-354727c1\"><div class=\"cards-wrapper\"><div class=\"card text\"><div class=\"card-text-wrapper\"><h2 class=\"heading\">Mono<span class=\"serif\">graph</span> Communications was <span class=\"serif\">built</span> on the belief that <span class=\"serif\">simple</span> can be <span class=\"serif\">extraordinary</span>.</h2></div><div class=\"div-block-22\"><a class=\"button no-bottom-border w-button\" href=\"/about\">About Us</a></div></div><div class=\"card text\"><h2>Edit<span class=\"serif\">ing</span></h2><h3>Give your eyes <span class=\"serif\">a break</span><span class=\"serif\">.</span></h3><div class=\"div-block-31\"><div>Service</div></div><div class=\"div-block-22\"><a class=\"button no-bottom-border w-button\" href=\"/services\">Learn More</a></div></div><div class=\"card\"><img alt=\"\" class=\"card-image\" src=\"https://uploads-ssl.webflow.com/5f00ac7516929863f832df2c/5f028ccfe08dc77acf7afff7_layered-text.svg\"/></div><div class=\"card testimonial\"><div class=\"testimonial-quote\">âRunning multiple clinics from different locations can make it hard to develop a <span class=\"serif\">unified message</span> to the public. Mono<span class=\"serif\">graph</span> Communications worked with us to <span class=\"serif\">narrow our focus</span> and create <span class=\"serif\">clear</span> and <span class=\"serif\">concise messaging</span>. I would highly recommend Mono<span class=\"serif\">graph</span> as an extremely knowledgeable resource for new or established companies.â</div><div class=\"testimonial-source-wrapper\"><div class=\"testimonial-source\">â Michael McDine, Owner</div><div class=\"testimonial-source secondary\">Saskatoon Orthopedic and Sports Medicine Center</div></div></div><div class=\"card text\"><div class=\"card-text-wrapper\"><h2>Copy<span class=\"serif\">writing</span><span class=\"serif\"></span></h2><h3>Want words, but <span class=\"serif\">donât</span> want to write them? <span class=\"serif\">Letâs chat.</span></h3></div><div class=\"div-block-31\"><div>Service</div></div><div class=\"div-block-22\"><a class=\"button no-bottom-border w-button\" href=\"/services\">Learn More</a></div></div><div class=\"card\"><img alt=\"\" class=\"card-image\" src=\"https://uploads-ssl.webflow.com/5f00ac7516929863f832df2c/5f029b444dba180ceaa85e83_Stickers.svg\"/></div><div class=\"card text\"><div class=\"div-block-31\"><div>Service</div></div><div class=\"card-text-wrapper\"><h2>Brand <span class=\"serif\">Support</span><span class=\"serif\"></span></h2><h3>We <span class=\"serif\">love the details</span> that make brands <span class=\"serif\">happen.</span></h3></div><div class=\"div-block-22\"><a class=\"button no-bottom-border w-button\" href=\"/services\">Learn More</a></div></div><div class=\"card testimonial bottom\"><div class=\"testimonial-quote\"><span class=\"serif\">Differentiating yourself</span> from the crowd can be difficult when offering a product line that is <span class=\"serif\">new</span> to your market. Mono<span class=\"serif\">graph</span> provided us with the language and tone needed to <span class=\"serif\">set us apart</span> from the competition. Clear <span class=\"serif\">language</span> and concise <span class=\"serif\">messaging</span> gave us the <span class=\"serif\">voice</span> we needed to stand out on our own. I would happily recommend Mono<span class=\"serif\">graph</span> to any business looking to <span class=\"serif\">communicate their brand</span> in a <span class=\"serif\">new</span>, <span class=\"serif\">unique</span> and <span class=\"serif\">effective</span> way.</div><div class=\"testimonial-source-wrapper\"><div class=\"testimonial-source\">â James Rayner</div><div class=\"testimonial-source secondary\"><a class=\"text-link\" href=\"https://arealifestyle.ca\" target=\"_blank\">Area Home +Â Lifestyle</a></div></div></div><div class=\"card testimonial hidden\"><div class=\"testimonial-quote\">âMono<span class=\"serif\">graph</span> Communications got right down to the core of what we needed to do to <span class=\"serif\">attract, relate</span>, and <span class=\"serif\">build</span> a <span class=\"serif\">new client base</span>. Kim <span class=\"serif\">saved us</span> a ton of <span class=\"serif\">time</span>, <span class=\"serif\">reorganized our website</span>, and <span class=\"serif\">simplified our messaging</span> to match our <span class=\"serif\">core audience</span>! We now <span class=\"serif\">stand apart from the crowd</span>, thanks to Mono<span class=\"serif\">graph</span>!â</div><div class=\"testimonial-source-wrapper\"><div class=\"testimonial-source\">â Randy Farkas</div><div class=\"testimonial-source secondary\">Garfield Sound Labs</div></div></div></div></div></div><div class=\"div-block-35\"><h4 class=\"field-label\">Mailing List</h4><div class=\"form-block w-form\"><form class=\"subscribe-form-flex\" data-name=\"Email Form\" id=\"email-form\" name=\"email-form\"><div class=\"subscribe-form-input-wrapper\"><input class=\"subscribe-form-input w-input\" data-name=\"Subscriber Email 2\" id=\"Subscriber-Email-2\" maxlength=\"256\" name=\"Subscriber-Email-2\" placeholder=\"Your email\" required=\"\" type=\"email\"/></div><input class=\"subscribe-button w-button\" data-wait=\"\" type=\"submit\" value=\"\"/></form><div class=\"success-message w-form-done\"><div><span class=\"serif\">Thank you<br/></span>Your submission has been received</div></div><div class=\"w-form-fail\"><div>Oops! Something went wrong while submitting the form.</div></div></div></div></div></div><div class=\"section\"><div class=\"container w-container\"><div class=\"div-block-6\"><a aria-current=\"page\" class=\"footer-logo-link-block w-inline-block w--current\" href=\"/\"><img alt=\"\" class=\"footer-logo\" src=\"https://uploads-ssl.webflow.com/5f00ac7516929863f832df2c/5f02393eadc66db24b881ce2_Monograph-Logo.svg\"/></a></div><div class=\"div-block-16\"><div class=\"div-block-17\"></div><div class=\"footer-content-wrapper\"><div class=\"div-block-20\"><div class=\"div-block-27\"><div class=\"copyright-text\">Â©<span class=\"mono\">Mono</span><span class=\"serif\">graph</span> Communications</div><div class=\"html-embed w-embed w-script\"><script type=\"text/javascript\">\n",
       "  document.write(new Date().getFullYear());\n",
       "</script></div></div><a class=\"link-block-2 w-inline-block\" href=\"https://www.garycolwell.net\" target=\"_blank\"><div class=\"designed-by-gary-colwell\">Designed in Vancouver by Gary Colwell</div></a></div><div class=\"div-block-18\"><div class=\"footer-link-wrapper no-margin-left\"><a aria-current=\"page\" class=\"text-link w--current\" href=\"/\">Home</a></div><div class=\"footer-link-wrapper\"><a class=\"footer-link\" href=\"/about\">About</a></div><div class=\"footer-link-wrapper\"><a class=\"footer-link\" href=\"/services\">Services</a></div><div class=\"footer-link-wrapper no-margin-right\"><a class=\"footer-link no-margin-right\" href=\"/contact\">Contact</a></div></div></div></div></div></div><script crossorigin=\"anonymous\" integrity=\"sha256-9/aliU8dGd2tb6OSsuzixeV4y/faTqgFtohetphbbj0=\" src=\"https://d3e54v103j8qbb.cloudfront.net/js/jquery-3.5.1.min.dc5e7f18c8.js?site=5f00ac7516929863f832df2c\" type=\"text/javascript\"></script><script src=\"https://uploads-ssl.webflow.com/5f00ac7516929863f832df2c/js/webflow.59789f391.js\" type=\"text/javascript\"></script><!--[if lte IE 9]><script src=\"//cdnjs.cloudflare.com/ajax/libs/placeholders/3.0.2/placeholders.min.js\"></script><![endif]--></body></html>"
      ]
     },
     "execution_count": 13,
     "metadata": {},
     "output_type": "execute_result"
    }
   ],
   "source": [
    "soup"
   ]
  },
  {
   "cell_type": "code",
   "execution_count": 14,
   "id": "6fbf06be-64bb-49ae-8791-3851bec70af9",
   "metadata": {},
   "outputs": [
    {
     "data": {
      "text/plain": [
       "<head><meta charset=\"utf-8\"/><title>Monograph Communications</title><meta content=\"We specialize in creative, clear, and cohesive communications solutions that build memorable experiences.\" name=\"description\"/><meta content=\"Monograph Communications\" property=\"og:title\"/><meta content=\"We specialize in creative, clear, and cohesive communications solutions that build memorable experiences.\" property=\"og:description\"/><meta content=\"https://uploads-ssl.webflow.com/5f00ac7516929863f832df2c/5f595f600925f3918dc2511e_Opengraph.png\" property=\"og:image\"/><meta content=\"Monograph Communications\" property=\"twitter:title\"/><meta content=\"We specialize in creative, clear, and cohesive communications solutions that build memorable experiences.\" property=\"twitter:description\"/><meta content=\"https://uploads-ssl.webflow.com/5f00ac7516929863f832df2c/5f595f600925f3918dc2511e_Opengraph.png\" property=\"twitter:image\"/><meta content=\"website\" property=\"og:type\"/><meta content=\"summary_large_image\" name=\"twitter:card\"/><meta content=\"width=device-width, initial-scale=1\" name=\"viewport\"/><link href=\"https://uploads-ssl.webflow.com/5f00ac7516929863f832df2c/css/monographcomms.webflow.259868d6f.min.css\" rel=\"stylesheet\" type=\"text/css\"/><script src=\"https://ajax.googleapis.com/ajax/libs/webfont/1.6.26/webfont.js\" type=\"text/javascript\"></script><script type=\"text/javascript\">WebFont.load({  google: {    families: [\"Roboto:100,100italic,300,300italic,regular,italic,500,500italic,700,700italic,900,900italic\",\"Marmelad:regular\"]  }});</script><!--[if lt IE 9]><script src=\"https://cdnjs.cloudflare.com/ajax/libs/html5shiv/3.7.3/html5shiv.min.js\" type=\"text/javascript\"></script><![endif]--><script type=\"text/javascript\">!function(o,c){var n=c.documentElement,t=\" w-mod-\";n.className+=t+\"js\",(\"ontouchstart\"in o||o.DocumentTouch&&c instanceof DocumentTouch)&&(n.className+=t+\"touch\")}(window,document);</script><link href=\"https://uploads-ssl.webflow.com/5f00ac7516929863f832df2c/5f0288c845308f58114a7474_favicon.png\" rel=\"shortcut icon\" type=\"image/x-icon\"/><link href=\"https://uploads-ssl.webflow.com/5f00ac7516929863f832df2c/5f028599310d7da02c61b53d_webclip.png\" rel=\"apple-touch-icon\"/><script async=\"\" src=\"https://www.googletagmanager.com/gtag/js?id=UA-112311929-2\"></script><script type=\"text/javascript\">window.dataLayer = window.dataLayer || [];function gtag(){dataLayer.push(arguments);}gtag('js', new Date());gtag('config', 'UA-112311929-2', {'anonymize_ip': false});</script><style>\n",
       "    ::-moz-selection { /* Firefox */\n",
       "        color: #fff;\n",
       "        background: #000;\n",
       "    }\n",
       "    ::selection {\n",
       "        color: #fff;\n",
       "        background: #000;\n",
       "    }\n",
       "</style>\n",
       "</head>"
      ]
     },
     "execution_count": 14,
     "metadata": {},
     "output_type": "execute_result"
    }
   ],
   "source": [
    "soup.head"
   ]
  },
  {
   "cell_type": "code",
   "execution_count": 15,
   "id": "1c8de187-f6d5-42ab-b512-09ea77304caf",
   "metadata": {},
   "outputs": [
    {
     "data": {
      "text/plain": [
       "'Monograph Communications\\nHomeAboutServicesContactDribbleMediumFacebookInstagramMonographPlain language,Extraordinary resultsWe specialize in creative, clear, and cohesive communications solutions that build memorable experiences.Mailing ListThank youYour submission has been receivedOops! Something went wrong while submitting the form.Monograph Communications was built on the belief that simple can be extraordinary.About UsEditingGive your eyes a break.ServiceLearn Moreâ\\x80\\x9cRunning multiple clinics from different locations can make it hard to develop a unified message to the public. Monograph Communications worked with us to narrow our focus and create clear and concise messaging. I would highly recommend Monograph as an extremely knowledgeable resource for new or established companies.â\\x80\\x9dâ\\x80\\x94 Michael McDine, OwnerSaskatoon Orthopedic and Sports Medicine CenterCopywritingWant words, but donâ\\x80\\x99t want to write them? Letâ\\x80\\x99s chat.ServiceLearn MoreServiceBrand SupportWe love the details that make brands happen.Learn MoreDifferentiating yourself from the crowd can be difficult when offering a product line that is new to your market. Monograph provided us with the language and tone needed to set us apart from the competition. Clear language and concise messaging gave us the voice we needed to stand out on our own. I would happily recommend Monograph to any business looking to communicate their brand in a new, unique and effective way.â\\x80\\x94 James RaynerArea Home +Â\\xa0Lifestyleâ\\x80\\x9cMonograph Communications got right down to the core of what we needed to do to attract, relate, and build a new client base. Kim saved us a ton of time, reorganized our website, and simplified our messaging to match our core audience! We now stand apart from the crowd, thanks to Monograph!â\\x80\\x9dâ\\x80\\x94 Randy FarkasGarfield Sound LabsMailing ListThank youYour submission has been receivedOops! Something went wrong while submitting the form.Â©Monograph CommunicationsDesigned in Vancouver by Gary ColwellHomeAboutServicesContact\\n'"
      ]
     },
     "execution_count": 15,
     "metadata": {},
     "output_type": "execute_result"
    }
   ],
   "source": [
    "soup.text"
   ]
  },
  {
   "cell_type": "code",
   "execution_count": 16,
   "id": "5142edc6-8357-4f4a-bef6-8883f720081c",
   "metadata": {},
   "outputs": [
    {
     "data": {
      "text/plain": [
       "[<a aria-current=\"page\" class=\"nav-link w--current\" href=\"/\">Home</a>,\n",
       " <a class=\"nav-link about\" href=\"/about\">About</a>,\n",
       " <a class=\"nav-link services\" href=\"/services\">Services</a>,\n",
       " <a class=\"nav-link contact\" href=\"/contact\">Contact</a>,\n",
       " <a class=\"social-links\" href=\"#\">Dribble</a>,\n",
       " <a class=\"social-links\" href=\"#\">Medium</a>,\n",
       " <a class=\"social-links\" href=\"#\">Facebook</a>,\n",
       " <a class=\"social-links\" href=\"#\">Instagram</a>,\n",
       " <a aria-current=\"page\" class=\"logo w-inline-block w--current\" href=\"/\"><div class=\"logo-text\">Mono<span class=\"serif\">graph</span></div></a>,\n",
       " <a class=\"button no-bottom-border w-button\" href=\"/about\">About Us</a>,\n",
       " <a class=\"button no-bottom-border w-button\" href=\"/services\">Learn More</a>,\n",
       " <a class=\"button no-bottom-border w-button\" href=\"/services\">Learn More</a>,\n",
       " <a class=\"button no-bottom-border w-button\" href=\"/services\">Learn More</a>,\n",
       " <a class=\"text-link\" href=\"https://arealifestyle.ca\" target=\"_blank\">Area Home +Â Lifestyle</a>,\n",
       " <a aria-current=\"page\" class=\"footer-logo-link-block w-inline-block w--current\" href=\"/\"><img alt=\"\" class=\"footer-logo\" src=\"https://uploads-ssl.webflow.com/5f00ac7516929863f832df2c/5f02393eadc66db24b881ce2_Monograph-Logo.svg\"/></a>,\n",
       " <a class=\"link-block-2 w-inline-block\" href=\"https://www.garycolwell.net\" target=\"_blank\"><div class=\"designed-by-gary-colwell\">Designed in Vancouver by Gary Colwell</div></a>,\n",
       " <a aria-current=\"page\" class=\"text-link w--current\" href=\"/\">Home</a>,\n",
       " <a class=\"footer-link\" href=\"/about\">About</a>,\n",
       " <a class=\"footer-link\" href=\"/services\">Services</a>,\n",
       " <a class=\"footer-link no-margin-right\" href=\"/contact\">Contact</a>]"
      ]
     },
     "execution_count": 16,
     "metadata": {},
     "output_type": "execute_result"
    }
   ],
   "source": [
    "soup.find_all(\"a\")"
   ]
  },
  {
   "cell_type": "code",
   "execution_count": 17,
   "id": "cd88865b-7ee0-4627-8e7e-088d80b82a9a",
   "metadata": {},
   "outputs": [
    {
     "data": {
      "text/plain": [
       "[<a aria-current=\"page\" class=\"nav-link w--current\" href=\"/\">Home</a>,\n",
       " <a class=\"nav-link about\" href=\"/about\">About</a>,\n",
       " <a class=\"nav-link services\" href=\"/services\">Services</a>,\n",
       " <a class=\"nav-link contact\" href=\"/contact\">Contact</a>,\n",
       " <a class=\"social-links\" href=\"#\">Dribble</a>,\n",
       " <a class=\"social-links\" href=\"#\">Medium</a>,\n",
       " <a class=\"social-links\" href=\"#\">Facebook</a>,\n",
       " <a class=\"social-links\" href=\"#\">Instagram</a>,\n",
       " <a aria-current=\"page\" class=\"logo w-inline-block w--current\" href=\"/\"><div class=\"logo-text\">Mono<span class=\"serif\">graph</span></div></a>,\n",
       " <a class=\"button no-bottom-border w-button\" href=\"/about\">About Us</a>,\n",
       " <a class=\"button no-bottom-border w-button\" href=\"/services\">Learn More</a>,\n",
       " <a class=\"button no-bottom-border w-button\" href=\"/services\">Learn More</a>,\n",
       " <a class=\"button no-bottom-border w-button\" href=\"/services\">Learn More</a>,\n",
       " <a class=\"text-link\" href=\"https://arealifestyle.ca\" target=\"_blank\">Area Home +Â Lifestyle</a>,\n",
       " <a aria-current=\"page\" class=\"footer-logo-link-block w-inline-block w--current\" href=\"/\"><img alt=\"\" class=\"footer-logo\" src=\"https://uploads-ssl.webflow.com/5f00ac7516929863f832df2c/5f02393eadc66db24b881ce2_Monograph-Logo.svg\"/></a>,\n",
       " <a class=\"link-block-2 w-inline-block\" href=\"https://www.garycolwell.net\" target=\"_blank\"><div class=\"designed-by-gary-colwell\">Designed in Vancouver by Gary Colwell</div></a>,\n",
       " <a aria-current=\"page\" class=\"text-link w--current\" href=\"/\">Home</a>,\n",
       " <a class=\"footer-link\" href=\"/about\">About</a>,\n",
       " <a class=\"footer-link\" href=\"/services\">Services</a>,\n",
       " <a class=\"footer-link no-margin-right\" href=\"/contact\">Contact</a>]"
      ]
     },
     "execution_count": 17,
     "metadata": {},
     "output_type": "execute_result"
    }
   ],
   "source": [
    "soup.find_all(\"a\")"
   ]
  },
  {
   "cell_type": "code",
   "execution_count": 18,
   "id": "066d6662-2033-4d38-a472-01810f3e2a4d",
   "metadata": {},
   "outputs": [],
   "source": [
    "\n",
    "    html_text = rq.get(\"https://www.monographcomms.ca/\").text\n",
    "    # Prepare the soup\n",
    "    soup2 = bs(html_text, \"html.parser\")"
   ]
  },
  {
   "cell_type": "code",
   "execution_count": 19,
   "id": "fd448adc-7ca7-44f9-9366-b63851b14276",
   "metadata": {},
   "outputs": [
    {
     "data": {
      "text/plain": [
       "<!DOCTYPE html>\n",
       "<!-- Last Published: Wed Nov 18 2020 20:36:24 GMT+0000 (Coordinated Universal Time) --><html data-wf-domain=\"www.monographcomms.ca\" data-wf-page=\"5f207c19889c5597354727c1\" data-wf-site=\"5f00ac7516929863f832df2c\"><head><meta charset=\"utf-8\"/><title>Monograph Communications</title><meta content=\"We specialize in creative, clear, and cohesive communications solutions that build memorable experiences.\" name=\"description\"/><meta content=\"Monograph Communications\" property=\"og:title\"/><meta content=\"We specialize in creative, clear, and cohesive communications solutions that build memorable experiences.\" property=\"og:description\"/><meta content=\"https://uploads-ssl.webflow.com/5f00ac7516929863f832df2c/5f595f600925f3918dc2511e_Opengraph.png\" property=\"og:image\"/><meta content=\"Monograph Communications\" property=\"twitter:title\"/><meta content=\"We specialize in creative, clear, and cohesive communications solutions that build memorable experiences.\" property=\"twitter:description\"/><meta content=\"https://uploads-ssl.webflow.com/5f00ac7516929863f832df2c/5f595f600925f3918dc2511e_Opengraph.png\" property=\"twitter:image\"/><meta content=\"website\" property=\"og:type\"/><meta content=\"summary_large_image\" name=\"twitter:card\"/><meta content=\"width=device-width, initial-scale=1\" name=\"viewport\"/><link href=\"https://uploads-ssl.webflow.com/5f00ac7516929863f832df2c/css/monographcomms.webflow.259868d6f.min.css\" rel=\"stylesheet\" type=\"text/css\"/><script src=\"https://ajax.googleapis.com/ajax/libs/webfont/1.6.26/webfont.js\" type=\"text/javascript\"></script><script type=\"text/javascript\">WebFont.load({  google: {    families: [\"Roboto:100,100italic,300,300italic,regular,italic,500,500italic,700,700italic,900,900italic\",\"Marmelad:regular\"]  }});</script><!--[if lt IE 9]><script src=\"https://cdnjs.cloudflare.com/ajax/libs/html5shiv/3.7.3/html5shiv.min.js\" type=\"text/javascript\"></script><![endif]--><script type=\"text/javascript\">!function(o,c){var n=c.documentElement,t=\" w-mod-\";n.className+=t+\"js\",(\"ontouchstart\"in o||o.DocumentTouch&&c instanceof DocumentTouch)&&(n.className+=t+\"touch\")}(window,document);</script><link href=\"https://uploads-ssl.webflow.com/5f00ac7516929863f832df2c/5f0288c845308f58114a7474_favicon.png\" rel=\"shortcut icon\" type=\"image/x-icon\"/><link href=\"https://uploads-ssl.webflow.com/5f00ac7516929863f832df2c/5f028599310d7da02c61b53d_webclip.png\" rel=\"apple-touch-icon\"/><script async=\"\" src=\"https://www.googletagmanager.com/gtag/js?id=UA-112311929-2\"></script><script type=\"text/javascript\">window.dataLayer = window.dataLayer || [];function gtag(){dataLayer.push(arguments);}gtag('js', new Date());gtag('config', 'UA-112311929-2', {'anonymize_ip': false});</script><style>\n",
       "    ::-moz-selection { /* Firefox */\n",
       "        color: #fff;\n",
       "        background: #000;\n",
       "    }\n",
       "    ::selection {\n",
       "        color: #fff;\n",
       "        background: #000;\n",
       "    }\n",
       "</style>\n",
       "</head><body><div class=\"page-background\" style=\"opacity:0\"></div><div class=\"overlay\"><div class=\"menu-links\"><a aria-current=\"page\" class=\"nav-link w--current\" href=\"/\">Home</a><a class=\"nav-link about\" href=\"/about\">About</a><a class=\"nav-link services\" href=\"/services\">Services</a><a class=\"nav-link contact\" href=\"/contact\">Contact</a></div><div class=\"socials\"><div class=\"div-block-28\"></div><a class=\"social-links\" href=\"#\">Dribble</a><a class=\"social-links\" href=\"#\">Medium</a><a class=\"social-links\" href=\"#\">Facebook</a><a class=\"social-links\" href=\"#\">Instagram</a></div><div class=\"menu-bg\"></div></div><div class=\"section\"><div class=\"container w-container\"><div class=\"div-block-19\"><a aria-current=\"page\" class=\"logo w-inline-block w--current\" href=\"/\"><div class=\"logo-text\">Mono<span class=\"serif\">graph</span></div></a><div class=\"menu\" data-animation-type=\"lottie\" data-autoplay=\"0\" data-default-duration=\"4\" data-direction=\"1\" data-duration=\"0\" data-is-ix2-target=\"1\" data-loop=\"0\" data-renderer=\"svg\" data-src=\"https://uploads-ssl.webflow.com/5f00ac7516929863f832df2c/5f4afc885bfdfb36b79f0c67_lf30_editor_XLPk4g.json\" data-w-id=\"00f4c42d-3182-5d08-cbe5-140c017c71a8\"></div></div></div></div><div class=\"section h1\"><div class=\"container w-container\"><h1>Plain <span class=\"serif\">language,</span><br/><span class=\"serif\"></span></h1><h1 class=\"aligned-right\"><span class=\"serif\">Extraordinary</span> results<br/><span class=\"serif\"></span></h1></div></div><div class=\"section\"><div class=\"container border-top w-container\"><div class=\"grid-3-columns border-bottom\"><div class=\"body-left-column\"><div class=\"div-block-3\"><h3>We <span class=\"serif\">specialize</span> in creative, clear, and cohesive <span class=\"serif\">communications solutions</span> that build <span class=\"serif\">memorable experiences.</span></h3><div class=\"div-block-36\"><h4 class=\"field-label\">Mailing List</h4><div class=\"form-block w-form\"><form class=\"subscribe-form-flex\" data-name=\"Email Form\" id=\"email-form\" name=\"email-form\"><div class=\"subscribe-form-input-wrapper\"><input class=\"subscribe-form-input w-input\" data-name=\"Subscriber Email\" id=\"Subscriber-Email\" maxlength=\"256\" name=\"Subscriber-Email\" placeholder=\"Your email\" required=\"\" type=\"email\"/></div><input class=\"subscribe-button w-button\" data-wait=\"\" type=\"submit\" value=\"\"/></form><div class=\"success-message w-form-done\"><div><span class=\"serif\">Thank you<br/></span>Your submission has been received</div></div><div class=\"w-form-fail\"><div>Oops! Something went wrong while submitting the form.</div></div></div></div></div></div><div class=\"body-right-column\" id=\"w-node-58c44c7ce21a-354727c1\"><div class=\"cards-wrapper\"><div class=\"card text\"><div class=\"card-text-wrapper\"><h2 class=\"heading\">Mono<span class=\"serif\">graph</span> Communications was <span class=\"serif\">built</span> on the belief that <span class=\"serif\">simple</span> can be <span class=\"serif\">extraordinary</span>.</h2></div><div class=\"div-block-22\"><a class=\"button no-bottom-border w-button\" href=\"/about\">About Us</a></div></div><div class=\"card text\"><h2>Edit<span class=\"serif\">ing</span></h2><h3>Give your eyes <span class=\"serif\">a break</span><span class=\"serif\">.</span></h3><div class=\"div-block-31\"><div>Service</div></div><div class=\"div-block-22\"><a class=\"button no-bottom-border w-button\" href=\"/services\">Learn More</a></div></div><div class=\"card\"><img alt=\"\" class=\"card-image\" src=\"https://uploads-ssl.webflow.com/5f00ac7516929863f832df2c/5f028ccfe08dc77acf7afff7_layered-text.svg\"/></div><div class=\"card testimonial\"><div class=\"testimonial-quote\">âRunning multiple clinics from different locations can make it hard to develop a <span class=\"serif\">unified message</span> to the public. Mono<span class=\"serif\">graph</span> Communications worked with us to <span class=\"serif\">narrow our focus</span> and create <span class=\"serif\">clear</span> and <span class=\"serif\">concise messaging</span>. I would highly recommend Mono<span class=\"serif\">graph</span> as an extremely knowledgeable resource for new or established companies.â</div><div class=\"testimonial-source-wrapper\"><div class=\"testimonial-source\">â Michael McDine, Owner</div><div class=\"testimonial-source secondary\">Saskatoon Orthopedic and Sports Medicine Center</div></div></div><div class=\"card text\"><div class=\"card-text-wrapper\"><h2>Copy<span class=\"serif\">writing</span><span class=\"serif\"></span></h2><h3>Want words, but <span class=\"serif\">donât</span> want to write them? <span class=\"serif\">Letâs chat.</span></h3></div><div class=\"div-block-31\"><div>Service</div></div><div class=\"div-block-22\"><a class=\"button no-bottom-border w-button\" href=\"/services\">Learn More</a></div></div><div class=\"card\"><img alt=\"\" class=\"card-image\" src=\"https://uploads-ssl.webflow.com/5f00ac7516929863f832df2c/5f029b444dba180ceaa85e83_Stickers.svg\"/></div><div class=\"card text\"><div class=\"div-block-31\"><div>Service</div></div><div class=\"card-text-wrapper\"><h2>Brand <span class=\"serif\">Support</span><span class=\"serif\"></span></h2><h3>We <span class=\"serif\">love the details</span> that make brands <span class=\"serif\">happen.</span></h3></div><div class=\"div-block-22\"><a class=\"button no-bottom-border w-button\" href=\"/services\">Learn More</a></div></div><div class=\"card testimonial bottom\"><div class=\"testimonial-quote\"><span class=\"serif\">Differentiating yourself</span> from the crowd can be difficult when offering a product line that is <span class=\"serif\">new</span> to your market. Mono<span class=\"serif\">graph</span> provided us with the language and tone needed to <span class=\"serif\">set us apart</span> from the competition. Clear <span class=\"serif\">language</span> and concise <span class=\"serif\">messaging</span> gave us the <span class=\"serif\">voice</span> we needed to stand out on our own. I would happily recommend Mono<span class=\"serif\">graph</span> to any business looking to <span class=\"serif\">communicate their brand</span> in a <span class=\"serif\">new</span>, <span class=\"serif\">unique</span> and <span class=\"serif\">effective</span> way.</div><div class=\"testimonial-source-wrapper\"><div class=\"testimonial-source\">â James Rayner</div><div class=\"testimonial-source secondary\"><a class=\"text-link\" href=\"https://arealifestyle.ca\" target=\"_blank\">Area Home +Â Lifestyle</a></div></div></div><div class=\"card testimonial hidden\"><div class=\"testimonial-quote\">âMono<span class=\"serif\">graph</span> Communications got right down to the core of what we needed to do to <span class=\"serif\">attract, relate</span>, and <span class=\"serif\">build</span> a <span class=\"serif\">new client base</span>. Kim <span class=\"serif\">saved us</span> a ton of <span class=\"serif\">time</span>, <span class=\"serif\">reorganized our website</span>, and <span class=\"serif\">simplified our messaging</span> to match our <span class=\"serif\">core audience</span>! We now <span class=\"serif\">stand apart from the crowd</span>, thanks to Mono<span class=\"serif\">graph</span>!â</div><div class=\"testimonial-source-wrapper\"><div class=\"testimonial-source\">â Randy Farkas</div><div class=\"testimonial-source secondary\">Garfield Sound Labs</div></div></div></div></div></div><div class=\"div-block-35\"><h4 class=\"field-label\">Mailing List</h4><div class=\"form-block w-form\"><form class=\"subscribe-form-flex\" data-name=\"Email Form\" id=\"email-form\" name=\"email-form\"><div class=\"subscribe-form-input-wrapper\"><input class=\"subscribe-form-input w-input\" data-name=\"Subscriber Email 2\" id=\"Subscriber-Email-2\" maxlength=\"256\" name=\"Subscriber-Email-2\" placeholder=\"Your email\" required=\"\" type=\"email\"/></div><input class=\"subscribe-button w-button\" data-wait=\"\" type=\"submit\" value=\"\"/></form><div class=\"success-message w-form-done\"><div><span class=\"serif\">Thank you<br/></span>Your submission has been received</div></div><div class=\"w-form-fail\"><div>Oops! Something went wrong while submitting the form.</div></div></div></div></div></div><div class=\"section\"><div class=\"container w-container\"><div class=\"div-block-6\"><a aria-current=\"page\" class=\"footer-logo-link-block w-inline-block w--current\" href=\"/\"><img alt=\"\" class=\"footer-logo\" src=\"https://uploads-ssl.webflow.com/5f00ac7516929863f832df2c/5f02393eadc66db24b881ce2_Monograph-Logo.svg\"/></a></div><div class=\"div-block-16\"><div class=\"div-block-17\"></div><div class=\"footer-content-wrapper\"><div class=\"div-block-20\"><div class=\"div-block-27\"><div class=\"copyright-text\">Â©<span class=\"mono\">Mono</span><span class=\"serif\">graph</span> Communications</div><div class=\"html-embed w-embed w-script\"><script type=\"text/javascript\">\n",
       "  document.write(new Date().getFullYear());\n",
       "</script></div></div><a class=\"link-block-2 w-inline-block\" href=\"https://www.garycolwell.net\" target=\"_blank\"><div class=\"designed-by-gary-colwell\">Designed in Vancouver by Gary Colwell</div></a></div><div class=\"div-block-18\"><div class=\"footer-link-wrapper no-margin-left\"><a aria-current=\"page\" class=\"text-link w--current\" href=\"/\">Home</a></div><div class=\"footer-link-wrapper\"><a class=\"footer-link\" href=\"/about\">About</a></div><div class=\"footer-link-wrapper\"><a class=\"footer-link\" href=\"/services\">Services</a></div><div class=\"footer-link-wrapper no-margin-right\"><a class=\"footer-link no-margin-right\" href=\"/contact\">Contact</a></div></div></div></div></div></div><script crossorigin=\"anonymous\" integrity=\"sha256-9/aliU8dGd2tb6OSsuzixeV4y/faTqgFtohetphbbj0=\" src=\"https://d3e54v103j8qbb.cloudfront.net/js/jquery-3.5.1.min.dc5e7f18c8.js?site=5f00ac7516929863f832df2c\" type=\"text/javascript\"></script><script src=\"https://uploads-ssl.webflow.com/5f00ac7516929863f832df2c/js/webflow.59789f391.js\" type=\"text/javascript\"></script><!--[if lte IE 9]><script src=\"//cdnjs.cloudflare.com/ajax/libs/placeholders/3.0.2/placeholders.min.js\"></script><![endif]--></body></html>"
      ]
     },
     "execution_count": 19,
     "metadata": {},
     "output_type": "execute_result"
    }
   ],
   "source": [
    "soup2"
   ]
  },
  {
   "cell_type": "code",
   "execution_count": 25,
   "id": "12b5b918-33d6-4225-931d-fd630ce85dca",
   "metadata": {},
   "outputs": [
    {
     "name": "stdout",
     "output_type": "stream",
     "text": [
      "https://www.monographcomms.ca//\n",
      "https://www.monographcomms.ca//about\n",
      "https://www.monographcomms.ca//services\n",
      "https://www.monographcomms.ca//contact\n",
      "https://www.monographcomms.ca//\n",
      "https://www.monographcomms.ca//about\n",
      "https://www.monographcomms.ca//services\n",
      "https://www.monographcomms.ca//services\n",
      "https://www.monographcomms.ca//services\n",
      "https://www.monographcomms.ca//\n",
      "https://www.monographcomms.ca//\n",
      "https://www.monographcomms.ca//about\n",
      "https://www.monographcomms.ca//services\n",
      "https://www.monographcomms.ca//contact\n"
     ]
    }
   ],
   "source": [
    "# Enlaces que apuntan dentro de la página\n",
    "baselink = \"https://www.monographcomms.ca/\"\n",
    "\n",
    "for link in soup.findAll(\"a\"):\n",
    "    if str(link.get(\"href\"))[0] == \"/\":\n",
    "        print(baselink + link.get(\"href\"))"
   ]
  },
  {
   "cell_type": "code",
   "execution_count": null,
   "id": "f2984c3a-4fe7-47dd-bc5a-ce40a9c58874",
   "metadata": {},
   "outputs": [],
   "source": []
  }
 ],
 "metadata": {
  "kernelspec": {
   "display_name": "Python 3",
   "language": "python",
   "name": "python3"
  },
  "language_info": {
   "codemirror_mode": {
    "name": "ipython",
    "version": 3
   },
   "file_extension": ".py",
   "mimetype": "text/x-python",
   "name": "python",
   "nbconvert_exporter": "python",
   "pygments_lexer": "ipython3",
   "version": "3.8.8"
  }
 },
 "nbformat": 4,
 "nbformat_minor": 5
}
